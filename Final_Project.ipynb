{
 "cells": [
  {
   "cell_type": "markdown",
   "metadata": {
    "toc": true
   },
   "source": [
    "<h1>Table of Contents<span class=\"tocSkip\"></span></h1>\n",
    "<div class=\"toc\"><ul class=\"toc-item\"><li><span><a href=\"#1.-Python-Basics:\" data-toc-modified-id=\"1.-Python-Basics:-1\"><span class=\"toc-item-num\">1&nbsp;&nbsp;</span>1. Python Basics:</a></span><ul class=\"toc-item\"><li><span><a href=\"#Data-Types,-arithmetic,-and-logical-operators:-Please-write-data-types-in-Python-and-give-an-example.-Also,-use-arithmetic-operations-in-Python-for-these-data-types.\" data-toc-modified-id=\"Data-Types,-arithmetic,-and-logical-operators:-Please-write-data-types-in-Python-and-give-an-example.-Also,-use-arithmetic-operations-in-Python-for-these-data-types.-1.1\"><span class=\"toc-item-num\">1.1&nbsp;&nbsp;</span>Data Types, arithmetic, and logical operators: Please write data types in Python and give an example. Also, use arithmetic operations in Python for these data types.<br></a></span></li><li><span><a href=\"#Strings:-Please-write-how-to-use-strings-in-Python.-Convert-a-string-into-a-list.-Also,-please-see-the-encryption/decryption-example.\" data-toc-modified-id=\"Strings:-Please-write-how-to-use-strings-in-Python.-Convert-a-string-into-a-list.-Also,-please-see-the-encryption/decryption-example.-1.2\"><span class=\"toc-item-num\">1.2&nbsp;&nbsp;</span>Strings: Please write how to use strings in Python. Convert a string into a list. Also, please see the encryption/decryption example.<br></a></span></li><li><span><a href=\"#User-Inputs-and-outputs:-Please-write-an-example-to-take-user-input-from-the-terminal-and-print-them.-You-may-give-an-example-of-the-average-calculator.\" data-toc-modified-id=\"User-Inputs-and-outputs:-Please-write-an-example-to-take-user-input-from-the-terminal-and-print-them.-You-may-give-an-example-of-the-average-calculator.-1.3\"><span class=\"toc-item-num\">1.3&nbsp;&nbsp;</span>User Inputs and outputs: Please write an example to take user input from the terminal and print them. You may give an example of the average calculator.<br></a></span></li><li><span><a href=\"#List,-Tuples,-Dictionaries:-Give-information-about-lists,-tuples,-and-dictionaries.-Indicate-differences-and-usage.-Give-some-examples-of-list-manipulation-and-creation.\" data-toc-modified-id=\"List,-Tuples,-Dictionaries:-Give-information-about-lists,-tuples,-and-dictionaries.-Indicate-differences-and-usage.-Give-some-examples-of-list-manipulation-and-creation.-1.4\"><span class=\"toc-item-num\">1.4&nbsp;&nbsp;</span>List, Tuples, Dictionaries: Give information about lists, tuples, and dictionaries. Indicate differences and usage. Give some examples of list manipulation and creation.<br></a></span></li><li><span><a href=\"#Conditionals-(if/else)-and-Loops-(for/while):-Please-explain-conditionals-and-loops.-Give-some-examples-and-compare-some-of-the-operations.-Is-there-a-“case”-conditional-in-Python?-Can-you-create-one?\" data-toc-modified-id=\"Conditionals-(if/else)-and-Loops-(for/while):-Please-explain-conditionals-and-loops.-Give-some-examples-and-compare-some-of-the-operations.-Is-there-a-“case”-conditional-in-Python?-Can-you-create-one?-1.5\"><span class=\"toc-item-num\">1.5&nbsp;&nbsp;</span>Conditionals (if/else) and Loops (for/while): Please explain conditionals and loops. Give some examples and compare some of the operations. Is there a “case” conditional in Python? Can you create one?<br></a></span></li><li><span><a href=\"#Conditionals-(if/else)-and-Loops-(for/while):-Please-explain-conditionals-and-loops.-Give-some-examples-and-compare-some-of-the-operations.-Is-there-a-“case”-conditional-in-Python?-Can-you-create-one?\" data-toc-modified-id=\"Conditionals-(if/else)-and-Loops-(for/while):-Please-explain-conditionals-and-loops.-Give-some-examples-and-compare-some-of-the-operations.-Is-there-a-“case”-conditional-in-Python?-Can-you-create-one?-1.6\"><span class=\"toc-item-num\">1.6&nbsp;&nbsp;</span>Conditionals (if/else) and Loops (for/while): Please explain conditionals and loops. Give some examples and compare some of the operations. Is there a “case” conditional in Python? Can you create one?<br></a></span></li><li><span><a href=\"#Task:-Please-complete-the-following-tasks.\" data-toc-modified-id=\"Task:-Please-complete-the-following-tasks.-1.7\"><span class=\"toc-item-num\">1.7&nbsp;&nbsp;</span>Task: Please complete the following tasks.</a></span><ul class=\"toc-item\"><li><span><a href=\"#Create-a-4x4-matrix-A\" data-toc-modified-id=\"Create-a-4x4-matrix-A-1.7.1\"><span class=\"toc-item-num\">1.7.1&nbsp;&nbsp;</span>Create a 4x4 matrix A<br></a></span></li><li><span><a href=\"#Create-a-1x4-matrix-B\" data-toc-modified-id=\"Create-a-1x4-matrix-B-1.7.2\"><span class=\"toc-item-num\">1.7.2&nbsp;&nbsp;</span>Create a 1x4 matrix B<br></a></span></li><li><span><a href=\"#Create-a-4x1-matrix-C\" data-toc-modified-id=\"Create-a-4x1-matrix-C-1.7.3\"><span class=\"toc-item-num\">1.7.3&nbsp;&nbsp;</span>Create a 4x1 matrix C<br></a></span></li><li><span><a href=\"#Combine-(column)-A-and-B\" data-toc-modified-id=\"Combine-(column)-A-and-B-1.7.4\"><span class=\"toc-item-num\">1.7.4&nbsp;&nbsp;</span>Combine (column) A and B<br></a></span></li><li><span><a href=\"#Combine-(row)-A-and-C\" data-toc-modified-id=\"Combine-(row)-A-and-C-1.7.5\"><span class=\"toc-item-num\">1.7.5&nbsp;&nbsp;</span>Combine (row) A and C<br></a></span></li><li><span><a href=\"#Create-an-array-(1x20)-with-all-random-values-(an-integer-between-0-and-9)-and-name-it-x.\" data-toc-modified-id=\"Create-an-array-(1x20)-with-all-random-values-(an-integer-between-0-and-9)-and-name-it-x.-1.7.6\"><span class=\"toc-item-num\">1.7.6&nbsp;&nbsp;</span>Create an array (1x20) with all random values (an integer between 0 and 9) and name it x.<br></a></span></li><li><span><a href=\"#Using-the-array-x-in-top-create-an-array-y-with-all-even-numbers-in-array-x.\" data-toc-modified-id=\"Using-the-array-x-in-top-create-an-array-y-with-all-even-numbers-in-array-x.-1.7.7\"><span class=\"toc-item-num\">1.7.7&nbsp;&nbsp;</span>Using the array x in top create an array y with all even numbers in array x.<br></a></span></li><li><span><a href=\"#Using-the-array-x[n]-(where-n-is-index-number)-in-1.7.6-create-an-array-z-=-x[4n].\" data-toc-modified-id=\"Using-the-array-x[n]-(where-n-is-index-number)-in-1.7.6-create-an-array-z-=-x[4n].-1.7.8\"><span class=\"toc-item-num\">1.7.8&nbsp;&nbsp;</span>Using the array x[n] (where n is index number) in 1.7.6 create an array z = x[4n].<br></a></span></li><li><span><a href=\"#Using-the-array-z[n]-in-1.7.8-create-an-array-m-=-z[n/2].\" data-toc-modified-id=\"Using-the-array-z[n]-in-1.7.8-create-an-array-m-=-z[n/2].-1.7.9\"><span class=\"toc-item-num\">1.7.9&nbsp;&nbsp;</span>Using the array z[n] in 1.7.8 create an array m = z[n/2].<br></a></span></li><li><span><a href=\"#Write-a-function-to-calculate-parallel-and-series-resistor-values.-Several-resistors-can-be-any-number.\" data-toc-modified-id=\"Write-a-function-to-calculate-parallel-and-series-resistor-values.-Several-resistors-can-be-any-number.-1.7.10\"><span class=\"toc-item-num\">1.7.10&nbsp;&nbsp;</span>Write a function to calculate parallel and series resistor values. Several resistors can be any number.<br></a></span></li><li><span><a href=\"#Write-a-function-to-calculate-mean,-standard-deviation,-max,-min,-and-medium-of-a-list.\" data-toc-modified-id=\"Write-a-function-to-calculate-mean,-standard-deviation,-max,-min,-and-medium-of-a-list.-1.7.11\"><span class=\"toc-item-num\">1.7.11&nbsp;&nbsp;</span>Write a function to calculate mean, standard deviation, max, min, and medium of a list.</a></span></li></ul></li></ul></li><li><span><a href=\"#Python-Graphs:\" data-toc-modified-id=\"Python-Graphs:-2\"><span class=\"toc-item-num\">2&nbsp;&nbsp;</span>Python Graphs:</a></span><ul class=\"toc-item\"><li><span><a href=\"#Basic-line-graph:-Using-Matplotlib-to-work-on-basic-line-plots.-Also,-work-on-subplots-that-1x2,-2x2,-4x4-plots-with-some-examples.\" data-toc-modified-id=\"Basic-line-graph:-Using-Matplotlib-to-work-on-basic-line-plots.-Also,-work-on-subplots-that-1x2,-2x2,-4x4-plots-with-some-examples.-2.1\"><span class=\"toc-item-num\">2.1&nbsp;&nbsp;</span>Basic line graph: Using Matplotlib to work on basic line plots. Also, work on subplots that 1x2, 2x2, 4x4 plots with some examples.<br></a></span></li><li><span><a href=\"#Bar-Charts,-Pie-Charts,-and-Pareto-Charts:-Using-Matplotlib-to-work-on-basic-bar-and-pie-charts.\" data-toc-modified-id=\"Bar-Charts,-Pie-Charts,-and-Pareto-Charts:-Using-Matplotlib-to-work-on-basic-bar-and-pie-charts.-2.2\"><span class=\"toc-item-num\">2.2&nbsp;&nbsp;</span>Bar Charts, Pie Charts, and Pareto Charts: Using Matplotlib to work on basic bar and pie charts.</a></span></li><li><span><a href=\"#Histogram:-Using-Matplotlib-to-work-on-the-basic-histogram.\" data-toc-modified-id=\"Histogram:-Using-Matplotlib-to-work-on-the-basic-histogram.-2.3\"><span class=\"toc-item-num\">2.3&nbsp;&nbsp;</span>Histogram: Using Matplotlib to work on the basic histogram.<br></a></span></li><li><span><a href=\"#Boxplots:-Using-Matplotlib-to-work-on-basic-boxplots.\" data-toc-modified-id=\"Boxplots:-Using-Matplotlib-to-work-on-basic-boxplots.-2.4\"><span class=\"toc-item-num\">2.4&nbsp;&nbsp;</span>Boxplots: Using Matplotlib to work on basic boxplots.<br></a></span></li><li><span><a href=\"#Task:-Please-complete-the-following-tasks.\" data-toc-modified-id=\"Task:-Please-complete-the-following-tasks.-2.5\"><span class=\"toc-item-num\">2.5&nbsp;&nbsp;</span>Task: Please complete the following tasks.</a></span><ul class=\"toc-item\"><li><span><a href=\"#Create-a-10x10-sparse-matrix-A-and-visualize-it.\" data-toc-modified-id=\"Create-a-10x10-sparse-matrix-A-and-visualize-it.-2.5.1\"><span class=\"toc-item-num\">2.5.1&nbsp;&nbsp;</span>Create a 10x10 sparse matrix A and visualize it.<br></a></span></li><li><span><a href=\"#Create-a-plot-that-shows-sine(x),-cos(x)-and-sin(x)cos(x)-on-same-plot.\" data-toc-modified-id=\"Create-a-plot-that-shows-sine(x),-cos(x)-and-sin(x)cos(x)-on-same-plot.-2.5.2\"><span class=\"toc-item-num\">2.5.2&nbsp;&nbsp;</span>Create a plot that shows sine(x), cos(x) and sin(x)cos(x) on same plot.<br></a></span></li><li><span><a href=\"#Repeat-2.5.2-to-plot-them-on-three-different-subplots.\" data-toc-modified-id=\"Repeat-2.5.2-to-plot-them-on-three-different-subplots.-2.5.3\"><span class=\"toc-item-num\">2.5.3&nbsp;&nbsp;</span>Repeat 2.5.2 to plot them on three different subplots.<br></a></span></li><li><span><a href=\"#Create-a-histogram-using-random-data-(you-may-use-data-on-Matplotlib-website)\" data-toc-modified-id=\"Create-a-histogram-using-random-data-(you-may-use-data-on-Matplotlib-website)-2.5.4\"><span class=\"toc-item-num\">2.5.4&nbsp;&nbsp;</span>Create a histogram using random data (you may use data on Matplotlib website)<br></a></span></li><li><span><a href=\"#Save-figures-with-different-file-types-(png,-svg,-jpeg,-pdf)-and-compare-them-based-on-file-size-and-scalability.\" data-toc-modified-id=\"Save-figures-with-different-file-types-(png,-svg,-jpeg,-pdf)-and-compare-them-based-on-file-size-and-scalability.-2.5.5\"><span class=\"toc-item-num\">2.5.5&nbsp;&nbsp;</span>Save figures with different file types (png, svg, jpeg, pdf) and compare them based on file size and scalability.<br></a></span></li><li><span><a href=\"#Create-and-change-figure-titles,-x-and-y-axis-labels,-grid-thickness,-etc.\" data-toc-modified-id=\"Create-and-change-figure-titles,-x-and-y-axis-labels,-grid-thickness,-etc.-2.5.6\"><span class=\"toc-item-num\">2.5.6&nbsp;&nbsp;</span>Create and change figure titles, x and y-axis labels, grid thickness, etc.<br></a></span></li><li><span><a href=\"#Add-some-Greek-alphabet-in-your-plot-using-LaTeX.\" data-toc-modified-id=\"Add-some-Greek-alphabet-in-your-plot-using-LaTeX.-2.5.7\"><span class=\"toc-item-num\">2.5.7&nbsp;&nbsp;</span>Add some Greek alphabet in your plot using LaTeX.<br></a></span></li></ul></li></ul></li><li><span><a href=\"#Numpy:\" data-toc-modified-id=\"Numpy:-3\"><span class=\"toc-item-num\">3&nbsp;&nbsp;</span>Numpy:</a></span><ul class=\"toc-item\"><li><span><a href=\"#Numpy-Basics\" data-toc-modified-id=\"Numpy-Basics-3.1\"><span class=\"toc-item-num\">3.1&nbsp;&nbsp;</span>Numpy Basics</a></span><ul class=\"toc-item\"><li><span><a href=\"#Write-a-NumPy-program-to-convert-a-list-of-numeric-value-into-a-one-dimensional-NumPy-array\" data-toc-modified-id=\"Write-a-NumPy-program-to-convert-a-list-of-numeric-value-into-a-one-dimensional-NumPy-array-3.1.1\"><span class=\"toc-item-num\">3.1.1&nbsp;&nbsp;</span>Write a NumPy program to convert a list of numeric value into a one-dimensional NumPy array<br></a></span></li><li><span><a href=\"#Write-a-NumPy-program-to-create-an-array-with-the-values-2,-4,-3,-144,-and-determine-the-size-of-the-memory-occupied-by-the-array.-\" data-toc-modified-id=\"Write-a-NumPy-program-to-create-an-array-with-the-values-2,-4,-3,-144,-and-determine-the-size-of-the-memory-occupied-by-the-array.--3.1.2\"><span class=\"toc-item-num\">3.1.2&nbsp;&nbsp;</span>Write a NumPy program to create an array with the values 2, 4, 3, 144, and determine the size of the memory occupied by the array. <br></a></span></li><li><span><a href=\"#Write-a-NumPy-program-to-find-x2,-x3,-and-x2/3-if-x-a-Numpy-array-with-the-values-2,-4,-3,-144.-\" data-toc-modified-id=\"Write-a-NumPy-program-to-find-x2,-x3,-and-x2/3-if-x-a-Numpy-array-with-the-values-2,-4,-3,-144.--3.1.3\"><span class=\"toc-item-num\">3.1.3&nbsp;&nbsp;</span>Write a NumPy program to find x2, x3, and x2/3 if x a Numpy array with the values 2, 4, 3, 144. <br></a></span></li><li><span><a href=\"#Write-a-NumPy-program-to-create-an-array-of-10-zeros,-ten-ones,-tex-sixes.-\" data-toc-modified-id=\"Write-a-NumPy-program-to-create-an-array-of-10-zeros,-ten-ones,-tex-sixes.--3.1.4\"><span class=\"toc-item-num\">3.1.4&nbsp;&nbsp;</span>Write a NumPy program to create an array of 10 zeros, ten ones, tex sixes. <br></a></span></li><li><span><a href=\"#Write-a-NumPy-program-to-create-two-arrays-of-the-integers-from-20-to-80-for-odd-and-even-numbers.-\" data-toc-modified-id=\"Write-a-NumPy-program-to-create-two-arrays-of-the-integers-from-20-to-80-for-odd-and-even-numbers.--3.1.5\"><span class=\"toc-item-num\">3.1.5&nbsp;&nbsp;</span>Write a NumPy program to create two arrays of the integers from 20 to 80 for odd and even numbers. <br></a></span></li><li><span><a href=\"#Write-a-NumPy-program-to-create-a-5x4-matrix-filled-with-values-from-5-to-15.-\" data-toc-modified-id=\"Write-a-NumPy-program-to-create-a-5x4-matrix-filled-with-values-from-5-to-15.--3.1.6\"><span class=\"toc-item-num\">3.1.6&nbsp;&nbsp;</span>Write a NumPy program to create a 5x4 matrix filled with values from 5 to 15. <br></a></span></li><li><span><a href=\"#Write-a-NumPy-program-to-create-a-5x5-identity-matrix-with-diagonal-elements-are-1,-the-rest-are-0.-\" data-toc-modified-id=\"Write-a-NumPy-program-to-create-a-5x5-identity-matrix-with-diagonal-elements-are-1,-the-rest-are-0.--3.1.7\"><span class=\"toc-item-num\">3.1.7&nbsp;&nbsp;</span>Write a NumPy program to create a 5x5 identity matrix with diagonal elements are 1, the rest are 0. <br></a></span></li><li><span><a href=\"#Write-a-NumPy-program-to-create-a-12x12-matrix,-in-which-the-elements-on-the-borders-will-be-equal-to-1,-and-inside-0.-\" data-toc-modified-id=\"Write-a-NumPy-program-to-create-a-12x12-matrix,-in-which-the-elements-on-the-borders-will-be-equal-to-1,-and-inside-0.--3.1.8\"><span class=\"toc-item-num\">3.1.8&nbsp;&nbsp;</span>Write a NumPy program to create a 12x12 matrix, in which the elements on the borders will be equal to 1, and inside 0. <br></a></span></li><li><span><a href=\"#Write-a-NumPy-program-to-compute-the-sum-of-all-elements,-sum-of-each-column-and-sum-of-each-row-of-a-given-array-\" data-toc-modified-id=\"Write-a-NumPy-program-to-compute-the-sum-of-all-elements,-sum-of-each-column-and-sum-of-each-row-of-a-given-array--3.1.9\"><span class=\"toc-item-num\">3.1.9&nbsp;&nbsp;</span>Write a NumPy program to compute the sum of all elements, sum of each column and sum of each row of a given array <br></a></span></li><li><span><a href=\"#Write-a-NumPy-program-to-save-a-given-array-to-a-text-file-and-load-it.--\" data-toc-modified-id=\"Write-a-NumPy-program-to-save-a-given-array-to-a-text-file-and-load-it.---3.1.10\"><span class=\"toc-item-num\">3.1.10&nbsp;&nbsp;</span>Write a NumPy program to save a given array to a text file and load it.  <br></a></span></li></ul></li><li><span><a href=\"#Numpy-Arrays\" data-toc-modified-id=\"Numpy-Arrays-3.2\"><span class=\"toc-item-num\">3.2&nbsp;&nbsp;</span>Numpy Arrays</a></span><ul class=\"toc-item\"><li><span><a href=\"#Write-a-NumPy-program-to-convert-a-list-and-tuple-into-arrays.-\" data-toc-modified-id=\"Write-a-NumPy-program-to-convert-a-list-and-tuple-into-arrays.--3.2.1\"><span class=\"toc-item-num\">3.2.1&nbsp;&nbsp;</span>Write a NumPy program to convert a list and tuple into arrays. <br></a></span></li><li><span><a href=\"#Write-a-NumPy-program-to-append-values-to-the-end-of-an-array.-\" data-toc-modified-id=\"Write-a-NumPy-program-to-append-values-to-the-end-of-an-array.--3.2.2\"><span class=\"toc-item-num\">3.2.2&nbsp;&nbsp;</span>Write a NumPy program to append values to the end of an array. <br></a></span></li><li><span><a href=\"#Write-a-NumPy-program-to-convert-the-values-of-Centigrade-degrees-into-Fahrenheit-degrees.-Centigrade-values-are-stored-into-a-NumPy-array.--\" data-toc-modified-id=\"Write-a-NumPy-program-to-convert-the-values-of-Centigrade-degrees-into-Fahrenheit-degrees.-Centigrade-values-are-stored-into-a-NumPy-array.---3.2.3\"><span class=\"toc-item-num\">3.2.3&nbsp;&nbsp;</span>Write a NumPy program to convert the values of Centigrade degrees into Fahrenheit degrees. Centigrade values are stored into a NumPy array.  <br></a></span></li><li><span><a href=\"#Write-a-NumPy-program-to-find-the-real-and-imaginary-parts-of-an-array-of-complex-numbers.-\" data-toc-modified-id=\"Write-a-NumPy-program-to-find-the-real-and-imaginary-parts-of-an-array-of-complex-numbers.--3.2.4\"><span class=\"toc-item-num\">3.2.4&nbsp;&nbsp;</span>Write a NumPy program to find the real and imaginary parts of an array of complex numbers. <br></a></span></li><li><span><a href=\"#Write-a-NumPy-program-to-test-whether-each-element-of-a-1-D-array-is-also-present-in-a-second-array.-\" data-toc-modified-id=\"Write-a-NumPy-program-to-test-whether-each-element-of-a-1-D-array-is-also-present-in-a-second-array.--3.2.5\"><span class=\"toc-item-num\">3.2.5&nbsp;&nbsp;</span>Write a NumPy program to test whether each element of a 1-D array is also present in a second array. <br></a></span></li><li><span><a href=\"#Write-a-NumPy-program-to-find-common-values-between-two-arrays.-\" data-toc-modified-id=\"Write-a-NumPy-program-to-find-common-values-between-two-arrays.--3.2.6\"><span class=\"toc-item-num\">3.2.6&nbsp;&nbsp;</span>Write a NumPy program to find common values between two arrays. <br></a></span></li><li><span><a href=\"#Write-a-NumPy-program-to-get-the-unique-elements-of-an-array.-\" data-toc-modified-id=\"Write-a-NumPy-program-to-get-the-unique-elements-of-an-array.--3.2.7\"><span class=\"toc-item-num\">3.2.7&nbsp;&nbsp;</span>Write a NumPy program to get the unique elements of an array. <br></a></span></li><li><span><a href=\"#Write-a-NumPy-program-to-find-the-set-difference-of-two-arrays.-The-set-difference-will-return-the-sorted,-unique-values-in-array1-that-are-not-in-array2.-\" data-toc-modified-id=\"Write-a-NumPy-program-to-find-the-set-difference-of-two-arrays.-The-set-difference-will-return-the-sorted,-unique-values-in-array1-that-are-not-in-array2.--3.2.8\"><span class=\"toc-item-num\">3.2.8&nbsp;&nbsp;</span>Write a NumPy program to find the set difference of two arrays. The set difference will return the sorted, unique values in array1 that are not in array2. <br></a></span></li><li><span><a href=\"#Write-a-NumPy-program-to-find-the-union-of-two-arrays.-Union-will-return-the-unique,-sorted-array-of-values-that-are-in-either-of-the-two-input-arrays.-\" data-toc-modified-id=\"Write-a-NumPy-program-to-find-the-union-of-two-arrays.-Union-will-return-the-unique,-sorted-array-of-values-that-are-in-either-of-the-two-input-arrays.--3.2.9\"><span class=\"toc-item-num\">3.2.9&nbsp;&nbsp;</span>Write a NumPy program to find the union of two arrays. Union will return the unique, sorted array of values that are in either of the two input arrays. <br></a></span></li><li><span><a href=\"#Write-a-NumPy-program-to-find-the-indices-of-the-maximum-and-minimum-values-along-the-given-axis-of-an-array.-\" data-toc-modified-id=\"Write-a-NumPy-program-to-find-the-indices-of-the-maximum-and-minimum-values-along-the-given-axis-of-an-array.--3.2.10\"><span class=\"toc-item-num\">3.2.10&nbsp;&nbsp;</span>Write a NumPy program to find the indices of the maximum and minimum values along the given axis of an array. <br></a></span></li><li><span><a href=\"#Write-a-NumPy-program-compare-two-given-arrays.-\" data-toc-modified-id=\"Write-a-NumPy-program-compare-two-given-arrays.--3.2.11\"><span class=\"toc-item-num\">3.2.11&nbsp;&nbsp;</span>Write a NumPy program compare two given arrays. <br></a></span></li><li><span><a href=\"#Write-a-NumPy-program-to-create-a-contiguous-flattened-array.-\" data-toc-modified-id=\"Write-a-NumPy-program-to-create-a-contiguous-flattened-array.--3.2.12\"><span class=\"toc-item-num\">3.2.12&nbsp;&nbsp;</span>Write a NumPy program to create a contiguous flattened array. <br></a></span></li><li><span><a href=\"#Write-a-NumPy-program-to-create-a-new-array-of-4x5,-filled-with-3.-\" data-toc-modified-id=\"Write-a-NumPy-program-to-create-a-new-array-of-4x5,-filled-with-3.--3.2.13\"><span class=\"toc-item-num\">3.2.13&nbsp;&nbsp;</span>Write a NumPy program to create a new array of 4x5, filled with 3. <br></a></span></li><li><span><a href=\"#Write-a-NumPy-program-to-create-a-new-shape-to-an-array-without-changing-its-data-\" data-toc-modified-id=\"Write-a-NumPy-program-to-create-a-new-shape-to-an-array-without-changing-its-data--3.2.14\"><span class=\"toc-item-num\">3.2.14&nbsp;&nbsp;</span>Write a NumPy program to create a new shape to an array without changing its data <br></a></span></li><li><span><a href=\"#Write-a-NumPy-program-to-create-a-1-D-array-of-24-elements.-Now-create-a-new-array-of-shape-(6,-4)-from-the-said-array,-then-restores-the-reshaped-array-into-a-1-D-array.-\" data-toc-modified-id=\"Write-a-NumPy-program-to-create-a-1-D-array-of-24-elements.-Now-create-a-new-array-of-shape-(6,-4)-from-the-said-array,-then-restores-the-reshaped-array-into-a-1-D-array.--3.2.15\"><span class=\"toc-item-num\">3.2.15&nbsp;&nbsp;</span>Write a NumPy program to create a 1-D array of 24 elements. Now create a new array of shape (6, 4) from the said array, then restores the reshaped array into a 1-D array. <br></a></span></li><li><span><a href=\"#Write-a-NumPy-program-to-create-an-array-of-4,5-shape-and-swap-column1-with-column4.-\" data-toc-modified-id=\"Write-a-NumPy-program-to-create-an-array-of-4,5-shape-and-swap-column1-with-column4.--3.2.16\"><span class=\"toc-item-num\">3.2.16&nbsp;&nbsp;</span>Write a NumPy program to create an array of 4,5 shape and swap column1 with column4. <br></a></span></li><li><span><a href=\"#Write-a-NumPy-program-to-replace-all-the-nan-(missing-values)-of-a-given-array-with-the-mean-of-another-array.\" data-toc-modified-id=\"Write-a-NumPy-program-to-replace-all-the-nan-(missing-values)-of-a-given-array-with-the-mean-of-another-array.-3.2.17\"><span class=\"toc-item-num\">3.2.17&nbsp;&nbsp;</span>Write a NumPy program to replace all the nan (missing values) of a given array with the mean of another array.</a></span></li></ul></li><li><span><a href=\"#Numpy-Linear-Algebra\" data-toc-modified-id=\"Numpy-Linear-Algebra-3.3\"><span class=\"toc-item-num\">3.3&nbsp;&nbsp;</span>Numpy Linear Algebra</a></span><ul class=\"toc-item\"><li><span><a href=\"#Write-a-NumPy-program-to-compute-the-multiplication-of-two-given-matrixes.\" data-toc-modified-id=\"Write-a-NumPy-program-to-compute-the-multiplication-of-two-given-matrixes.-3.3.1\"><span class=\"toc-item-num\">3.3.1&nbsp;&nbsp;</span>Write a NumPy program to compute the multiplication of two given matrixes.<br></a></span></li><li><span><a href=\"#Write-a-NumPy-program-to-compute-the-inverse-of-a-given-matrix.-\" data-toc-modified-id=\"Write-a-NumPy-program-to-compute-the-inverse-of-a-given-matrix.--3.3.2\"><span class=\"toc-item-num\">3.3.2&nbsp;&nbsp;</span>Write a NumPy program to compute the inverse of a given matrix. <br></a></span></li><li><span><a href=\"#Write-a-NumPy-program-to-compute-the-division-of-two-given-matrixes.-\" data-toc-modified-id=\"Write-a-NumPy-program-to-compute-the-division-of-two-given-matrixes.--3.3.3\"><span class=\"toc-item-num\">3.3.3&nbsp;&nbsp;</span>Write a NumPy program to compute the division of two given matrixes. <br></a></span></li><li><span><a href=\"#Write-a-NumPy-program-to-compute-the-sum-of-the-diagonal-elements-of-a-given-array.-\" data-toc-modified-id=\"Write-a-NumPy-program-to-compute-the-sum-of-the-diagonal-elements-of-a-given-array.--3.3.4\"><span class=\"toc-item-num\">3.3.4&nbsp;&nbsp;</span>Write a NumPy program to compute the sum of the diagonal elements of a given array. <br></a></span></li><li><span><a href=\"#Write-a-NumPy-program-to-get-the-lower-triangular-L-in-the-Cholesky-decomposition-of-a-given-array-\" data-toc-modified-id=\"Write-a-NumPy-program-to-get-the-lower-triangular-L-in-the-Cholesky-decomposition-of-a-given-array--3.3.5\"><span class=\"toc-item-num\">3.3.5&nbsp;&nbsp;</span>Write a NumPy program to get the lower-triangular L in the Cholesky decomposition of a given array <br></a></span></li><li><span><a href=\"#Write-a-NumPy-program-to-compute-the-factor-of-a-given-array-by-Singular-Value-Decomposition-\" data-toc-modified-id=\"Write-a-NumPy-program-to-compute-the-factor-of-a-given-array-by-Singular-Value-Decomposition--3.3.6\"><span class=\"toc-item-num\">3.3.6&nbsp;&nbsp;</span>Write a NumPy program to compute the factor of a given array by Singular Value Decomposition <br></a></span></li><li><span><a href=\"#Write-a-NumPy-program-to-generate-five-random-numbers-from-the-normal-distribution.-\" data-toc-modified-id=\"Write-a-NumPy-program-to-generate-five-random-numbers-from-the-normal-distribution.--3.3.7\"><span class=\"toc-item-num\">3.3.7&nbsp;&nbsp;</span>Write a NumPy program to generate five random numbers from the normal distribution. <br></a></span></li><li><span><a href=\"#Write-a-NumPy-program-to-generate-six-random-integers-between-10-and-30.-\" data-toc-modified-id=\"Write-a-NumPy-program-to-generate-six-random-integers-between-10-and-30.--3.3.8\"><span class=\"toc-item-num\">3.3.8&nbsp;&nbsp;</span>Write a NumPy program to generate six random integers between 10 and 30. <br></a></span></li><li><span><a href=\"#Write-a-NumPy-program-to-create-a-4x4-array-with-random-values-and-find-the-minimum-and-maximum-values.-\" data-toc-modified-id=\"Write-a-NumPy-program-to-create-a-4x4-array-with-random-values-and-find-the-minimum-and-maximum-values.--3.3.9\"><span class=\"toc-item-num\">3.3.9&nbsp;&nbsp;</span>Write a NumPy program to create a 4x4 array with random values and find the minimum and maximum values. <br></a></span></li><li><span><a href=\"#Write-a-NumPy-program-to-normalize-a-4x4-random-matrix.-\" data-toc-modified-id=\"Write-a-NumPy-program-to-normalize-a-4x4-random-matrix.--3.3.10\"><span class=\"toc-item-num\">3.3.10&nbsp;&nbsp;</span>Write a NumPy program to normalize a 4x4 random matrix. <br></a></span></li><li><span><a href=\"#Write-a-NumPy-program-to-create-random-(integer-values-between-0-and-10)-10x0-matrix-and-replace-the-maximum-value-by-999.--\" data-toc-modified-id=\"Write-a-NumPy-program-to-create-random-(integer-values-between-0-and-10)-10x0-matrix-and-replace-the-maximum-value-by-999.---3.3.11\"><span class=\"toc-item-num\">3.3.11&nbsp;&nbsp;</span>Write a NumPy program to create random (integer values between 0 and 10) 10x0 matrix and replace the maximum value by 999.  <br></a></span></li><li><span><a href=\"#Write-a-NumPy-program-to-create-random-(integer-values-between--5-and-5)-10x0-matrix-between-0-and-10-and-replace-all--5-and--4-values-by--999-and-all-positive-5-and-4-by-999.-\" data-toc-modified-id=\"Write-a-NumPy-program-to-create-random-(integer-values-between--5-and-5)-10x0-matrix-between-0-and-10-and-replace-all--5-and--4-values-by--999-and-all-positive-5-and-4-by-999.--3.3.12\"><span class=\"toc-item-num\">3.3.12&nbsp;&nbsp;</span>Write a NumPy program to create random (integer values between -5 and 5) 10x0 matrix between 0 and 10 and replace all -5 and -4 values by -999 and all positive 5 and 4 by 999. <br></a></span></li><li><span><a href=\"#Write-a-NumPy-program-to-find-the-most-frequent-value-in-an-array.-\" data-toc-modified-id=\"Write-a-NumPy-program-to-find-the-most-frequent-value-in-an-array.--3.3.13\"><span class=\"toc-item-num\">3.3.13&nbsp;&nbsp;</span>Write a NumPy program to find the most frequent value in an array. <br></a></span></li><li><span><a href=\"#Write-a-NumPy-random-complex-number-matrix-(size-5x5)-and-convert-them-to-polar-form.--\" data-toc-modified-id=\"Write-a-NumPy-random-complex-number-matrix-(size-5x5)-and-convert-them-to-polar-form.---3.3.14\"><span class=\"toc-item-num\">3.3.14&nbsp;&nbsp;</span>Write a NumPy random complex number matrix (size 5x5) and convert them to polar form.  <br></a></span></li><li><span><a href=\"#Write-a-NumPy-program-to-round-elements-of-the-array-to-the-nearest-integer.--\" data-toc-modified-id=\"Write-a-NumPy-program-to-round-elements-of-the-array-to-the-nearest-integer.---3.3.15\"><span class=\"toc-item-num\">3.3.15&nbsp;&nbsp;</span>Write a NumPy program to round elements of the array to the nearest integer.  <br></a></span></li></ul></li></ul></li><li><span><a href=\"#Pandas:\" data-toc-modified-id=\"Pandas:-4\"><span class=\"toc-item-num\">4&nbsp;&nbsp;</span>Pandas:</a></span><ul class=\"toc-item\"><li><span><a href=\"#Write-a-Python-program-to-create-and-display-a-one-dimensional-array-like-object-containing-an-array-of-data-using-the-Pandas-module.-\" data-toc-modified-id=\"Write-a-Python-program-to-create-and-display-a-one-dimensional-array-like-object-containing-an-array-of-data-using-the-Pandas-module.--4.1\"><span class=\"toc-item-num\">4.1&nbsp;&nbsp;</span>Write a Python program to create and display a one-dimensional array-like object containing an array of data using the Pandas module. <br></a></span></li><li><span><a href=\"#Write-a-Python-program-to-convert-a-Panda-module-Series-to-Python-list-and-its-type.--\" data-toc-modified-id=\"Write-a-Python-program-to-convert-a-Panda-module-Series-to-Python-list-and-its-type.---4.2\"><span class=\"toc-item-num\">4.2&nbsp;&nbsp;</span>Write a Python program to convert a Panda module Series to Python list and its type.  <br></a></span></li><li><span><a href=\"#Write-a-Python-program-to-convert-a-dictionary-to-a-Pandas-series.--\" data-toc-modified-id=\"Write-a-Python-program-to-convert-a-dictionary-to-a-Pandas-series.---4.3\"><span class=\"toc-item-num\">4.3&nbsp;&nbsp;</span>Write a Python program to convert a dictionary to a Pandas series.  <br></a></span></li><li><span><a href=\"#Create-a-DataFrame-of-10-students-with-their-names,-ages,-and-incomes-(Make-your-data).---\" data-toc-modified-id=\"Create-a-DataFrame-of-10-students-with-their-names,-ages,-and-incomes-(Make-your-data).----4.4\"><span class=\"toc-item-num\">4.4&nbsp;&nbsp;</span>Create a DataFrame of 10 students with their names, ages, and incomes (Make your data).   <br></a></span></li><li><span><a href=\"#Write-a-Python-Pandas-program-to-convert-the-first-column-of-a-DataFrame-as-a-Series.---\" data-toc-modified-id=\"Write-a-Python-Pandas-program-to-convert-the-first-column-of-a-DataFrame-as-a-Series.----4.5\"><span class=\"toc-item-num\">4.5&nbsp;&nbsp;</span>Write a Python Pandas program to convert the first column of a DataFrame as a Series.   <br></a></span></li><li><span><a href=\"#Write-a-Pandas-program-to-display-a-summary-of-the-basic-information-about-a-specified-DataFrame-and-its-data.--\" data-toc-modified-id=\"Write-a-Pandas-program-to-display-a-summary-of-the-basic-information-about-a-specified-DataFrame-and-its-data.---4.6\"><span class=\"toc-item-num\">4.6&nbsp;&nbsp;</span>Write a Pandas program to display a summary of the basic information about a specified DataFrame and its data.  <br></a></span></li><li><span><a href=\"#Write-a-Pandas-program-to-get-the-first-and-last-3-rows-of-a-given-DataFrame.--\" data-toc-modified-id=\"Write-a-Pandas-program-to-get-the-first-and-last-3-rows-of-a-given-DataFrame.---4.7\"><span class=\"toc-item-num\">4.7&nbsp;&nbsp;</span>Write a Pandas program to get the first and last 3 rows of a given DataFrame.  <br></a></span></li><li><span><a href=\"#Write-a-Pandas-program-to-select-the-specified-columns-and-rows-from-a-given-data-frame--\" data-toc-modified-id=\"Write-a-Pandas-program-to-select-the-specified-columns-and-rows-from-a-given-data-frame---4.8\"><span class=\"toc-item-num\">4.8&nbsp;&nbsp;</span>Write a Pandas program to select the specified columns and rows from a given data frame  <br></a></span></li><li><span><a href=\"#Write-a-Pandas-program-to-select-the-rows-where-students'-ages-are-between-20-and.-23.---\" data-toc-modified-id=\"Write-a-Pandas-program-to-select-the-rows-where-students'-ages-are-between-20-and.-23.----4.9\"><span class=\"toc-item-num\">4.9&nbsp;&nbsp;</span>Write a Pandas program to select the rows where students' ages are between 20 and. 23.   <br></a></span></li><li><span><a href=\"#Write-a-Pandas-program-to-change-max-and-min-incomes-to-NaN--\" data-toc-modified-id=\"Write-a-Pandas-program-to-change-max-and-min-incomes-to-NaN---4.10\"><span class=\"toc-item-num\">4.10&nbsp;&nbsp;</span>Write a Pandas program to change max and min incomes to NaN  <br></a></span></li><li><span><a href=\"#Write-a-Pandas-program-to-save-DataFrame-above-as-CSV-file.--\" data-toc-modified-id=\"Write-a-Pandas-program-to-save-DataFrame-above-as-CSV-file.---4.11\"><span class=\"toc-item-num\">4.11&nbsp;&nbsp;</span>Write a Pandas program to save DataFrame above as CSV file.  <br></a></span></li><li><span><a href=\"#Write-a-Pandas-program-to-open-a-CSV-file-as-DataFrame.--\" data-toc-modified-id=\"Write-a-Pandas-program-to-open-a-CSV-file-as-DataFrame.---4.12\"><span class=\"toc-item-num\">4.12&nbsp;&nbsp;</span>Write a Pandas program to open a CSV file as DataFrame.  <br></a></span></li><li><span><a href=\"#Write-a-Pandas-program-to-save-DataFrame-above-as-an-Excel-file.--\" data-toc-modified-id=\"Write-a-Pandas-program-to-save-DataFrame-above-as-an-Excel-file.---4.13\"><span class=\"toc-item-num\">4.13&nbsp;&nbsp;</span>Write a Pandas program to save DataFrame above as an Excel file.  <br></a></span></li><li><span><a href=\"#Write-a-Pandas-program-to-open-an-Excel-file-as-DataFrame.--\" data-toc-modified-id=\"Write-a-Pandas-program-to-open-an-Excel-file-as-DataFrame.---4.14\"><span class=\"toc-item-num\">4.14&nbsp;&nbsp;</span>Write a Pandas program to open an Excel file as DataFrame.  <br></a></span></li></ul></li><li><span><a href=\"#Basic-Statistics-and-Probability-Using-Python:\" data-toc-modified-id=\"Basic-Statistics-and-Probability-Using-Python:-5\"><span class=\"toc-item-num\">5&nbsp;&nbsp;</span>Basic Statistics and Probability Using Python:</a></span><ul class=\"toc-item\"><li><span><a href=\"#Numpy\" data-toc-modified-id=\"Numpy-5.1\"><span class=\"toc-item-num\">5.1&nbsp;&nbsp;</span>Numpy</a></span><ul class=\"toc-item\"><li><span><a href=\"#Write-a-Python-program-to-find-the-maximum-and-minimum-value-of-a-given-flattened-array.-\" data-toc-modified-id=\"Write-a-Python-program-to-find-the-maximum-and-minimum-value-of-a-given-flattened-array.--5.1.1\"><span class=\"toc-item-num\">5.1.1&nbsp;&nbsp;</span>Write a Python program to find the maximum and minimum value of a given flattened array. <br></a></span></li><li><span><a href=\"#Write-a-NumPy-program-to-compute-the-median-of-the-flattened-given-array--\" data-toc-modified-id=\"Write-a-NumPy-program-to-compute-the-median-of-the-flattened-given-array---5.1.2\"><span class=\"toc-item-num\">5.1.2&nbsp;&nbsp;</span>Write a NumPy program to compute the median of the flattened given array  <br></a></span></li><li><span><a href=\"#Write-a-NumPy-program-to-compute-the-mean,-standard-deviation,-and-variance-of-a-given-array-along-the-second-axis--\" data-toc-modified-id=\"Write-a-NumPy-program-to-compute-the-mean,-standard-deviation,-and-variance-of-a-given-array-along-the-second-axis---5.1.3\"><span class=\"toc-item-num\">5.1.3&nbsp;&nbsp;</span>Write a NumPy program to compute the mean, standard deviation, and variance of a given array along the second axis  <br></a></span></li><li><span><a href=\"#Write-a-NumPy-program-to-compute-the-covariance-matrix-of-two-given-arrays.--\" data-toc-modified-id=\"Write-a-NumPy-program-to-compute-the-covariance-matrix-of-two-given-arrays.---5.1.4\"><span class=\"toc-item-num\">5.1.4&nbsp;&nbsp;</span>Write a NumPy program to compute the covariance matrix of two given arrays.  <br></a></span></li><li><span><a href=\"#Write-a-NumPy-program-to-compute-the-cross-correlation-of-two-given-arrays.--\" data-toc-modified-id=\"Write-a-NumPy-program-to-compute-the-cross-correlation-of-two-given-arrays.---5.1.5\"><span class=\"toc-item-num\">5.1.5&nbsp;&nbsp;</span>Write a NumPy program to compute the cross-correlation of two given arrays.  <br></a></span></li></ul></li><li><span><a href=\"#Pandas\" data-toc-modified-id=\"Pandas-5.2\"><span class=\"toc-item-num\">5.2&nbsp;&nbsp;</span>Pandas</a></span><ul class=\"toc-item\"><li><span><a href=\"#Create-a-DataFrame-of-20-students-with-their-ages-and-incomes-(Make-your-data).-Find-Sum-od-Ages-and-Incomes--\" data-toc-modified-id=\"Create-a-DataFrame-of-20-students-with-their-ages-and-incomes-(Make-your-data).-Find-Sum-od-Ages-and-Incomes---5.2.1\"><span class=\"toc-item-num\">5.2.1&nbsp;&nbsp;</span>Create a DataFrame of 20 students with their ages and incomes (Make your data). Find Sum od Ages and Incomes  <br></a></span></li><li><span><a href=\"#Find-the-standard-deviation--of-student-age-and-income--\" data-toc-modified-id=\"Find-the-standard-deviation--of-student-age-and-income---5.2.2\"><span class=\"toc-item-num\">5.2.2&nbsp;&nbsp;</span>Find the standard deviation  of student age and income  <br></a></span></li><li><span><a href=\"#Find-product-values-of-student-age-and-income--\" data-toc-modified-id=\"Find-product-values-of-student-age-and-income---5.2.3\"><span class=\"toc-item-num\">5.2.3&nbsp;&nbsp;</span>Find product values of student age and income  <br></a></span></li><li><span><a href=\"#Find-Cumulative-Sum-of-student-age-and-income--\" data-toc-modified-id=\"Find-Cumulative-Sum-of-student-age-and-income---5.2.4\"><span class=\"toc-item-num\">5.2.4&nbsp;&nbsp;</span>Find Cumulative Sum of student age and income  <br></a></span></li><li><span><a href=\"#Find-Cumulative-product-of-student-age-and-income--\" data-toc-modified-id=\"Find-Cumulative-product-of-student-age-and-income---5.2.5\"><span class=\"toc-item-num\">5.2.5&nbsp;&nbsp;</span>Find Cumulative product of student age and income  <br></a></span></li></ul></li></ul></li><li><span><a href=\"#Linear-Regresion\" data-toc-modified-id=\"Linear-Regresion-6\"><span class=\"toc-item-num\">6&nbsp;&nbsp;</span>Linear Regresion</a></span><ul class=\"toc-item\"><li><span><a href=\"#Open-the-file-that-is-provided-(Linear_Regression.xlsx)-as-Pandas-DataFrame.\" data-toc-modified-id=\"Open-the-file-that-is-provided-(Linear_Regression.xlsx)-as-Pandas-DataFrame.-6.1\"><span class=\"toc-item-num\">6.1&nbsp;&nbsp;</span>Open the file that is provided (Linear_Regression.xlsx) as Pandas DataFrame.</a></span></li><li><span><a href=\"#Plot-the-data-(Number-of-Hours-vs-Grades)\" data-toc-modified-id=\"Plot-the-data-(Number-of-Hours-vs-Grades)-6.2\"><span class=\"toc-item-num\">6.2&nbsp;&nbsp;</span>Plot the data (Number of Hours vs Grades)</a></span></li><li><span><a href=\"#Using-linear-regression-that-is-explained-in-the-class-find-the-coefficients-(b0-and-b1).-Plot-the-original-data-and-linear-line.\" data-toc-modified-id=\"Using-linear-regression-that-is-explained-in-the-class-find-the-coefficients-(b0-and-b1).-Plot-the-original-data-and-linear-line.-6.3\"><span class=\"toc-item-num\">6.3&nbsp;&nbsp;</span>Using linear regression that is explained in the class find the coefficients (b0 and b1). Plot the original data and linear line.</a></span></li><li><span><a href=\"#Estimate-some-future-values-based-on-your-linear-regression.\" data-toc-modified-id=\"Estimate-some-future-values-based-on-your-linear-regression.-6.4\"><span class=\"toc-item-num\">6.4&nbsp;&nbsp;</span>Estimate some future values based on your linear regression.</a></span></li></ul></li></ul></div>"
   ]
  },
  {
   "cell_type": "markdown",
   "metadata": {},
   "source": [
    "# 1. Python Basics:\n",
    "You need to work on the basics of Python and standard libraries for this section of the exam. Please make sure to assign your code names similar functionality of your code as well as section numbers.<br>"
   ]
  },
  {
   "cell_type": "markdown",
   "metadata": {},
   "source": [
    "##  Data Types, arithmetic, and logical operators: Please write data types in Python and give an example. Also, use arithmetic operations in Python for these data types.<br>"
   ]
  },
  {
   "cell_type": "markdown",
   "metadata": {},
   "source": [
    "##  Strings: Please write how to use strings in Python. Convert a string into a list. Also, please see the encryption/decryption example.<br>"
   ]
  },
  {
   "cell_type": "markdown",
   "metadata": {},
   "source": [
    "\n",
    "##  User Inputs and outputs: Please write an example to take user input from the terminal and print them. You may give an example of the average calculator.<br>"
   ]
  },
  {
   "cell_type": "markdown",
   "metadata": {},
   "source": [
    "\n",
    "##  List, Tuples, Dictionaries: Give information about lists, tuples, and dictionaries. Indicate differences and usage. Give some examples of list manipulation and creation.<br>"
   ]
  },
  {
   "cell_type": "markdown",
   "metadata": {},
   "source": [
    "\n",
    "##  Conditionals (if/else) and Loops (for/while): Please explain conditionals and loops. Give some examples and compare some of the operations. Is there a “case” conditional in Python? Can you create one?<br>"
   ]
  },
  {
   "cell_type": "markdown",
   "metadata": {},
   "source": [
    "\n",
    "##  Conditionals (if/else) and Loops (for/while): Please explain conditionals and loops. Give some examples and compare some of the operations. Is there a “case” conditional in Python? Can you create one?<br>"
   ]
  },
  {
   "cell_type": "markdown",
   "metadata": {},
   "source": [
    "## Task: Please complete the following tasks. "
   ]
  },
  {
   "cell_type": "markdown",
   "metadata": {},
   "source": [
    "###  Create a 4x4 matrix A<br>"
   ]
  },
  {
   "cell_type": "code",
   "execution_count": 144,
   "metadata": {
    "code_folding": []
   },
   "outputs": [
    {
     "data": {
      "text/plain": [
       "[[1, 2, 3, 4], [1, 2, 3, 4], [1, 2, 3, 4], [1, 2, 3, 4]]"
      ]
     },
     "execution_count": 144,
     "metadata": {},
     "output_type": "execute_result"
    }
   ],
   "source": [
    "# 1.7.1\n",
    "import math\n",
    "A = [[1,2,3,4],\n",
    "     [1,2,3,4],\n",
    "     [1,2,3,4],\n",
    "     [1,2,3,4]]\n",
    "A"
   ]
  },
  {
   "cell_type": "markdown",
   "metadata": {},
   "source": [
    "###  Create a 1x4 matrix B<br>"
   ]
  },
  {
   "cell_type": "code",
   "execution_count": 145,
   "metadata": {
    "code_folding": []
   },
   "outputs": [
    {
     "data": {
      "text/plain": [
       "[-1, -2, -3, -4]"
      ]
     },
     "execution_count": 145,
     "metadata": {},
     "output_type": "execute_result"
    }
   ],
   "source": [
    "## 1.7.2 \n",
    "B = [-1,-2,-3,-4]\n",
    "B"
   ]
  },
  {
   "cell_type": "markdown",
   "metadata": {},
   "source": [
    "###  Create a 4x1 matrix C<br>"
   ]
  },
  {
   "cell_type": "code",
   "execution_count": 151,
   "metadata": {
    "code_folding": []
   },
   "outputs": [
    {
     "data": {
      "text/plain": [
       "[[-1], [-2], [-3], [-4]]"
      ]
     },
     "execution_count": 151,
     "metadata": {},
     "output_type": "execute_result"
    }
   ],
   "source": [
    "## 1.7.3\n",
    "C = [[-1],[-2],[-3],[-4]]\n",
    "C"
   ]
  },
  {
   "cell_type": "markdown",
   "metadata": {},
   "source": [
    "###  Combine (column) A and B<br>"
   ]
  },
  {
   "cell_type": "code",
   "execution_count": 178,
   "metadata": {},
   "outputs": [
    {
     "name": "stdout",
     "output_type": "stream",
     "text": [
      "\n",
      " -1.7.4\n",
      "[[1, 2, 3, 4, -1, -1, -1, -1, -1, -1, -1], [1, 2, 3, 4, -2, -2, -2, -2, -2, -2, -2], [1, 2, 3, 4, -3, -3, -3, -3, -3, -3, -3], [1, 2, 3, 4, -4, -4, -4, -4, -4, -4, -4], -1, -2, -3, -4]\n"
     ]
    }
   ],
   "source": [
    "## 1.7.4 Fixed using the final exam example provided by Dr. Aslan\n",
    "print(\"\\n -1.7.4\")\n",
    "A+B\n",
    "print(A+B)"
   ]
  },
  {
   "cell_type": "markdown",
   "metadata": {},
   "source": [
    "###  Combine (row) A and C<br>"
   ]
  },
  {
   "cell_type": "code",
   "execution_count": 179,
   "metadata": {
    "code_folding": []
   },
   "outputs": [
    {
     "data": {
      "text/plain": [
       "[[1, 2, 3, 4, -1, -1, -1, -1, -1, -1, -1, -1],\n",
       " [1, 2, 3, 4, -2, -2, -2, -2, -2, -2, -2, -2],\n",
       " [1, 2, 3, 4, -3, -3, -3, -3, -3, -3, -3, -3],\n",
       " [1, 2, 3, 4, -4, -4, -4, -4, -4, -4, -4, -4]]"
      ]
     },
     "execution_count": 179,
     "metadata": {},
     "output_type": "execute_result"
    }
   ],
   "source": [
    "#1.7.5\n",
    "E=[]\n",
    "for i in C:\n",
    "    for j in i:\n",
    "        E.append(j)\n",
    "for i in range(4):\n",
    "    A[:][i].append(E[i])\n",
    "A"
   ]
  },
  {
   "cell_type": "markdown",
   "metadata": {},
   "source": [
    "###  Create an array (1x20) with all random values (an integer between 0 and 9) and name it x.<br>"
   ]
  },
  {
   "cell_type": "code",
   "execution_count": 180,
   "metadata": {},
   "outputs": [
    {
     "data": {
      "text/plain": [
       "[9, 4, 8, 7, 4, 3, 1, 1, 2, 5, 6, 9, 9, 6, 5, 5, 7, 2, 3, 6]"
      ]
     },
     "execution_count": 180,
     "metadata": {},
     "output_type": "execute_result"
    }
   ],
   "source": [
    "## 1.7.6\n",
    "import random\n",
    "six = [random.randint(0, 9) for i in range(20)]\n",
    "six"
   ]
  },
  {
   "cell_type": "markdown",
   "metadata": {},
   "source": [
    "###  Using the array x in top create an array y with all even numbers in array x.<br>"
   ]
  },
  {
   "cell_type": "code",
   "execution_count": 181,
   "metadata": {},
   "outputs": [
    {
     "data": {
      "text/plain": [
       "[4, 8, 4, 2, 6, 6, 2, 6]"
      ]
     },
     "execution_count": 181,
     "metadata": {},
     "output_type": "execute_result"
    }
   ],
   "source": [
    "## 1.7.7\n",
    "seven=[]\n",
    "seven=[i for i in six if i%2==0]\n",
    "seven"
   ]
  },
  {
   "cell_type": "markdown",
   "metadata": {},
   "source": [
    "###  Using the array x[n] (where n is index number) in 1.7.6 create an array z = x[4n].<br>"
   ]
  },
  {
   "cell_type": "code",
   "execution_count": 182,
   "metadata": {},
   "outputs": [
    {
     "data": {
      "text/plain": [
       "[9, 4, 2, 9, 7]"
      ]
     },
     "execution_count": 182,
     "metadata": {},
     "output_type": "execute_result"
    }
   ],
   "source": [
    "\n",
    "#1.7.8\n",
    "eight=[]\n",
    "for i in range(0,len(six),4):\n",
    "    eight.append(six[i])\n",
    "eight"
   ]
  },
  {
   "cell_type": "markdown",
   "metadata": {},
   "source": [
    "###  Using the array z[n] in 1.7.8 create an array m = z[n/2].<br>"
   ]
  },
  {
   "cell_type": "code",
   "execution_count": 183,
   "metadata": {
    "code_folding": []
   },
   "outputs": [
    {
     "data": {
      "text/plain": [
       "[9, 0, 4, 0, 2, 0, 9, 0, 7]"
      ]
     },
     "execution_count": 183,
     "metadata": {},
     "output_type": "execute_result"
    }
   ],
   "source": [
    "#1.7.9\n",
    "nine=sum([[i, 0] for i in eight], [])[:-1]\n",
    "nine"
   ]
  },
  {
   "cell_type": "markdown",
   "metadata": {},
   "source": [
    "###  Write a function to calculate parallel and series resistor values. Several resistors can be any number.<br>"
   ]
  },
  {
   "cell_type": "code",
   "execution_count": 184,
   "metadata": {},
   "outputs": [
    {
     "data": {
      "text/plain": [
       "800"
      ]
     },
     "execution_count": 184,
     "metadata": {},
     "output_type": "execute_result"
    }
   ],
   "source": [
    "#1.7.10.i\n",
    "def Series(*R):\n",
    "    return sum(R)\n",
    "Series(100,150,250,300)\n"
   ]
  },
  {
   "cell_type": "code",
   "execution_count": 185,
   "metadata": {},
   "outputs": [
    {
     "data": {
      "text/plain": [
       "41.666666666666664"
      ]
     },
     "execution_count": 185,
     "metadata": {},
     "output_type": "execute_result"
    }
   ],
   "source": [
    "#1.7.10.i\n",
    "def Parallel(*R):\n",
    "    t =0\n",
    "    for i in R:\n",
    "        t=t+1/i\n",
    "    return 1/t\n",
    "Parallel(100,150,250,300)\n"
   ]
  },
  {
   "cell_type": "markdown",
   "metadata": {},
   "source": [
    "### Write a function to calculate mean, standard deviation, max, min, and medium of a list.\n"
   ]
  },
  {
   "cell_type": "code",
   "execution_count": 186,
   "metadata": {},
   "outputs": [
    {
     "name": "stdout",
     "output_type": "stream",
     "text": [
      "mean: 5.5\n",
      "standard deviation: 2.8722813232690143 \n",
      "max: 10 \n",
      "min: 1 \n",
      "medium: 5.5 \n"
     ]
    }
   ],
   "source": [
    "#1.7.10\n",
    "\n",
    "#1.7.11\n",
    "import statistics \n",
    "lista=[1,2,3,4,5,6,7,8,9,10]\n",
    "meann=0\n",
    "##mean \n",
    "for i in lista:\n",
    "    meann += i \n",
    "mean =(meann/(len(lista)))\n",
    "print (f'mean: {mean}')\n",
    "#standard deviation\n",
    "standard = np.std(lista)\n",
    "print (f'standard deviation: {standard} ')\n",
    "#max min and medium \n",
    "maxx = np.max(lista)\n",
    "minn = np.min(lista)\n",
    "medeian = np.median(lista)\n",
    "print (f'max: {maxx} ')\n",
    "print (f'min: {minn} ')\n",
    "print (f'medium: {medeian} ')\n"
   ]
  },
  {
   "cell_type": "markdown",
   "metadata": {},
   "source": [
    "# Python Graphs:\n",
    "This portion of the project you need to work on the basics of Python graphs using Matplotlibs.<br>"
   ]
  },
  {
   "cell_type": "markdown",
   "metadata": {},
   "source": [
    "## Basic line graph: Using Matplotlib to work on basic line plots. Also, work on subplots that 1x2, 2x2, 4x4 plots with some examples.<br>"
   ]
  },
  {
   "cell_type": "markdown",
   "metadata": {},
   "source": [
    "## Bar Charts, Pie Charts, and Pareto Charts: Using Matplotlib to work on basic bar and pie charts."
   ]
  },
  {
   "cell_type": "markdown",
   "metadata": {},
   "source": [
    "## Histogram: Using Matplotlib to work on the basic histogram.<br>"
   ]
  },
  {
   "cell_type": "markdown",
   "metadata": {},
   "source": [
    "## Boxplots: Using Matplotlib to work on basic boxplots.<br>"
   ]
  },
  {
   "cell_type": "markdown",
   "metadata": {},
   "source": [
    "##  Task: Please complete the following tasks. "
   ]
  },
  {
   "cell_type": "code",
   "execution_count": 187,
   "metadata": {},
   "outputs": [],
   "source": [
    "#2.5\n",
    "import matplotlib.pylab as plt\n",
    "import scipy.sparse as sparse"
   ]
  },
  {
   "cell_type": "markdown",
   "metadata": {},
   "source": [
    "### Create a 10x10 sparse matrix A and visualize it.<br>"
   ]
  },
  {
   "cell_type": "code",
   "execution_count": 188,
   "metadata": {},
   "outputs": [
    {
     "name": "stdout",
     "output_type": "stream",
     "text": [
      "\n",
      "-2.5.1\n"
     ]
    },
    {
     "data": {
      "text/plain": [
       "<matplotlib.lines.Line2D at 0x1a255576d0>"
      ]
     },
     "execution_count": 188,
     "metadata": {},
     "output_type": "execute_result"
    },
    {
     "data": {
      "image/png": "[encoded data removed]",
      "text/plain": [
       "<Figure size 432x288 with 1 Axes>"
      ]
     },
     "metadata": {
      "needs_background": "light"
     },
     "output_type": "display_data"
    }
   ],
   "source": [
    "##2.5.1.\n",
    "print(\"\\n-2.5.1\")\n",
    "A = sparse.random(10,10, .1)\n",
    "plt.spy(A)"
   ]
  },
  {
   "cell_type": "markdown",
   "metadata": {},
   "source": [
    "### Create a plot that shows sine(x), cos(x) and sin(x)cos(x) on same plot.<br>"
   ]
  },
  {
   "cell_type": "code",
   "execution_count": 189,
   "metadata": {},
   "outputs": [
    {
     "name": "stdout",
     "output_type": "stream",
     "text": [
      "\n",
      "-2.5.2\n"
     ]
    },
    {
     "data": {
      "image/png": "[encoded data removed]",
      "text/plain": [
       "<Figure size 864x432 with 1 Axes>"
      ]
     },
     "metadata": {
      "needs_background": "light"
     },
     "output_type": "display_data"
    }
   ],
   "source": [
    "##2.5.2 used code from my exam 1\n",
    "print(\"\\n-2.5.2\")\n",
    "plt.figure(figsize=(12,6))\n",
    "f1=1000; \n",
    "t=np.linspace(0,10,1000)\n",
    "x1=np.sin(2*np.pi*f1*t)\n",
    "x2=np.cos(2*np.pi*f1*t)\n",
    "x3=(np.sin(2*np.pi*f1*t)*np.cos(2*np.pi*f1*t))\n",
    "plt.plot(t,x1, label='sin(x)')\n",
    "plt.plot(t,x2, label='cos(x)')\n",
    "plt.plot(t,x3, label='sin*cos(x)')\n",
    "plt.xlabel('time')\n",
    "plt.ylabel('magnitude')\n",
    "plt.title('time vs cos(x)-sin(x)-sin*cos',fontweight='bold',fontsize=20)\n",
    "plt.legend()\n",
    "plt.grid()\n",
    "plt.show()"
   ]
  },
  {
   "cell_type": "markdown",
   "metadata": {},
   "source": [
    "### Repeat 2.5.2 to plot them on three different subplots.<br>\n"
   ]
  },
  {
   "cell_type": "code",
   "execution_count": 116,
   "metadata": {},
   "outputs": [
    {
     "name": "stdout",
     "output_type": "stream",
     "text": [
      "\n",
      "-2.5.3\n"
     ]
    },
    {
     "data": {
      "image/png": "[encoded data removed]",
      "text/plain": [
       "<Figure size 864x864 with 3 Axes>"
      ]
     },
     "metadata": {
      "needs_background": "light"
     },
     "output_type": "display_data"
    }
   ],
   "source": [
    "##2.5.3\n",
    "import matplotlib.pylab as plt\n",
    "import scipy.sparse as sparse\n",
    "print(\"\\n-2.5.3\")\n",
    "f1=1000; \n",
    "t=np.linspace(0,10,100)\n",
    "x1=np.sin(2*np.pi*f1*t)\n",
    "x2=np.cos(2*np.pi*f1*t)\n",
    "x3=(np.sin(2*np.pi*f1*t)*np.cos(2*np.pi*f1*t))\n",
    "fig, ax = plt.subplots(3,1, figsize=(12, 12))\n",
    "ax[0].plot(t,x1)\n",
    "plt.ylim(0, .6)\n",
    "ax[0].set_title('time vs sin(x)')\n",
    "ax[0].set_xlabel('time')\n",
    "ax[0].set_ylabel('magnitude')\n",
    "ax[1].plot(t,x2)\n",
    "plt.ylim(0, .6)\n",
    "ax[1].set_title('time vs cos(x)')\n",
    "ax[1].set_xlabel('time')\n",
    "ax[1].set_ylabel('magnitude')\n",
    "ax[2].plot(t,x3)\n",
    "plt.ylim(0, .6)\n",
    "ax[2].set_title('time vs sin(x)*cos(x)')\n",
    "ax[2].set_xlabel('time')\n",
    "ax[2].set_ylabel('magnitude')\n",
    "\n",
    "plt.subplots_adjust(top=0.92, bottom=0.08, left=0.10, right=0.95, hspace=0.5,\n",
    "                    wspace=0.35)"
   ]
  },
  {
   "cell_type": "markdown",
   "metadata": {},
   "source": [
    "### Create a histogram using random data (you may use data on Matplotlib website)<br>"
   ]
  },
  {
   "cell_type": "code",
   "execution_count": 117,
   "metadata": {},
   "outputs": [
    {
     "name": "stdout",
     "output_type": "stream",
     "text": [
      "\n",
      "-2.5.4\n"
     ]
    },
    {
     "data": {
      "image/png": "[encoded data removed]",
      "text/plain": [
       "<Figure size 432x288 with 1 Axes>"
      ]
     },
     "metadata": {
      "needs_background": "light"
     },
     "output_type": "display_data"
    }
   ],
   "source": [
    "##2.5.4 some code from matplotlib\n",
    "from matplotlib import pyplot as plt\n",
    "import numpy as np\n",
    "print(\"\\n-2.5.4\")\n",
    "four = np.random.randint(0,10,100)\n",
    "plt.hist(four)\n",
    "plt.title(\"Histogram Random values\")\n",
    "plt.xlabel(\"Value\")\n",
    "plt.ylabel(\"Times Repeated\")\n",
    "plt.show()"
   ]
  },
  {
   "cell_type": "markdown",
   "metadata": {},
   "source": [
    "### Save figures with different file types (png, svg, jpeg, pdf) and compare them based on file size and scalability.<br>"
   ]
  },
  {
   "cell_type": "code",
   "execution_count": 123,
   "metadata": {},
   "outputs": [
    {
     "name": "stdout",
     "output_type": "stream",
     "text": [
      "\n",
      "-2.5.5\n"
     ]
    },
    {
     "data": {
      "image/png": "[encoded data removed]",
      "text/plain": [
       "<Figure size 432x288 with 1 Axes>"
      ]
     },
     "metadata": {
      "needs_background": "light"
     },
     "output_type": "display_data"
    }
   ],
   "source": [
    "\n",
    "##2.5.5 \n",
    "print(\"\\n-2.5.5\")\n",
    "plt.hist(four)\n",
    "plt.savefig('five.png', dpi=fig.dpi)  \n",
    "plt.savefig('five.svg', dpi=fig.dpi) \n",
    "plt.savefig('five.jpeg', dpi=fig.dpi)  \n",
    "plt.savefig('five.pdf', dpi=fig.dpi)  \n",
    "\n",
    "png = open('five.png', 'rb')"
   ]
  },
  {
   "cell_type": "markdown",
   "metadata": {},
   "source": [
    "### Create and change figure titles, x and y-axis labels, grid thickness, etc.<br>"
   ]
  },
  {
   "cell_type": "code",
   "execution_count": 119,
   "metadata": {},
   "outputs": [
    {
     "name": "stdout",
     "output_type": "stream",
     "text": [
      "2.5.6\n"
     ]
    },
    {
     "data": {
      "image/png": "[encoded data removed]",
      "text/plain": [
       "<Figure size 432x288 with 1 Axes>"
      ]
     },
     "metadata": {
      "needs_background": "light"
     },
     "output_type": "display_data"
    }
   ],
   "source": [
    "##2.5.6\n",
    "from matplotlib import pyplot as plt\n",
    "print(\"2.5.6\")\n",
    "years =  [2014,2015,2016,2017,2018,2019,2020,2021]\n",
    "ee = [45,55,60,60,70,64,77,60]\n",
    "plt.plot(years,ee,'blue', linewidth=3, marker='o', markersize=3,markerfacecolor='k', label ='EE')\n",
    "plt.xlabel('years')\n",
    "plt.ylabel('students')\n",
    "plt.title(\"Electrical Engineering students \\n (EE) \",family='serif',fontweight='bold',c='y', fontstyle='italic',fontsize=12)\n",
    "plt.xticks(years,rotation=315)\n",
    "plt.legend()\n",
    "plt.grid(lw=2)"
   ]
  },
  {
   "cell_type": "markdown",
   "metadata": {},
   "source": [
    "### Add some Greek alphabet in your plot using LaTeX.<br>"
   ]
  },
  {
   "cell_type": "code",
   "execution_count": 120,
   "metadata": {},
   "outputs": [
    {
     "name": "stdout",
     "output_type": "stream",
     "text": [
      "-2.5.7\n"
     ]
    },
    {
     "data": {
      "image/png": "[encoded data removed]",
      "text/plain": [
       "<Figure size 432x288 with 1 Axes>"
      ]
     },
     "metadata": {
      "needs_background": "light"
     },
     "output_type": "display_data"
    }
   ],
   "source": [
    "##2.5.7\n",
    "from matplotlib import pyplot as plt\n",
    "print(\"-2.5.7\")\n",
    "years =  [2014,2015,2016,2017,2018,2019,2020,2021]\n",
    "ee = [45,55,60,60,70,64,77,60]\n",
    "plt.plot(years,ee,'blue', linewidth=3, marker='o', markersize=3,markerfacecolor='k', label ='EE')\n",
    "plt.xlabel('years')\n",
    "plt.ylabel('students')\n",
    "plt.title(\"Electrical Engineering students \\n (EE) \",family='serif',fontweight='bold',c='y', fontstyle='italic',fontsize=12)\n",
    "plt.xticks(years,rotation=315)\n",
    "plt.legend()\n",
    "plt.grid(lw=2)\n",
    "plt.text(2015,65,r'$\\Theta$',fontsize=80)\n",
    "plt.show()"
   ]
  },
  {
   "cell_type": "markdown",
   "metadata": {},
   "source": [
    "# Numpy: \n",
    "## Numpy Basics \n",
    "Task: Please complete the following tasks. \n"
   ]
  },
  {
   "cell_type": "code",
   "execution_count": 121,
   "metadata": {},
   "outputs": [],
   "source": [
    "import numpy as np"
   ]
  },
  {
   "cell_type": "markdown",
   "metadata": {},
   "source": [
    "### Write a NumPy program to convert a list of numeric value into a one-dimensional NumPy array<br>\n"
   ]
  },
  {
   "cell_type": "code",
   "execution_count": 122,
   "metadata": {},
   "outputs": [
    {
     "name": "stdout",
     "output_type": "stream",
     "text": [
      "~3.1.1\n",
      "[35, 64, 32, 79, 90, 64, 9, 95, 35, 18]\n",
      "[35 64 32 79 90 64  9 95 35 18]\n"
     ]
    }
   ],
   "source": [
    "##3.1.1\n",
    "print(\"~3.1.1\")\n",
    "a= list(np.random.randint(100,size=10))\n",
    "print(a)\n",
    "A = np.array(a)\n",
    "print(A)"
   ]
  },
  {
   "cell_type": "markdown",
   "metadata": {},
   "source": [
    "### Write a NumPy program to create an array with the values 2, 4, 3, 144, and determine the size of the memory occupied by the array. <br>\n"
   ]
  },
  {
   "cell_type": "code",
   "execution_count": 25,
   "metadata": {},
   "outputs": [
    {
     "name": "stdout",
     "output_type": "stream",
     "text": [
      "\n",
      " -3.1.2 \n",
      " size of memory for X : 32\n"
     ]
    }
   ],
   "source": [
    "\n",
    "##3.1.2\n",
    "print(\"\\n -3.1.2 \")\n",
    "X = np.array([2, 4, 3, 144])\n",
    "x = np.prod(X.shape) * (X.itemsize)\n",
    "print(f' size of memory for X : {x}')\n"
   ]
  },
  {
   "cell_type": "markdown",
   "metadata": {},
   "source": [
    "### Write a NumPy program to find x2, x3, and x2/3 if x a Numpy array with the values 2, 4, 3, 144. <br>\n"
   ]
  },
  {
   "cell_type": "code",
   "execution_count": 26,
   "metadata": {},
   "outputs": [
    {
     "name": "stdout",
     "output_type": "stream",
     "text": [
      "\n",
      " -3.1.3 \n",
      "[  4   8   6 288]\n",
      "[  4   8   6 288]\n",
      "[ 1.33333333  2.66666667  2.         96.        ]\n"
     ]
    }
   ],
   "source": [
    "##3.1.3\n",
    "print(\"\\n -3.1.3 \")\n",
    "x2 = np.multiply(2, X)\n",
    "print(x2)\n",
    "x3 = np.multiply(3, X)\n",
    "print(x2)\n",
    "x4= x2 = np.multiply((2/3), X)\n",
    "print(x2)"
   ]
  },
  {
   "cell_type": "markdown",
   "metadata": {},
   "source": [
    "### Write a NumPy program to create an array of 10 zeros, ten ones, tex sixes. <br>\n"
   ]
  },
  {
   "cell_type": "code",
   "execution_count": 27,
   "metadata": {},
   "outputs": [
    {
     "name": "stdout",
     "output_type": "stream",
     "text": [
      "\n",
      " -3.1.4 \n",
      "[array([0., 0., 0., 0., 0., 0., 0., 0., 0., 0.]), array([1., 1., 1., 1., 1., 1., 1., 1., 1., 1.]), array([6., 6., 6., 6., 6., 6., 6., 6., 6., 6.])]\n"
     ]
    }
   ],
   "source": [
    "##3.1.4\n",
    "print(\"\\n -3.1.4 \")\n",
    "B=[np.zeros(10),np.ones(10),np.ones(10)*6]\n",
    "print(B)"
   ]
  },
  {
   "cell_type": "markdown",
   "metadata": {},
   "source": [
    "### Write a NumPy program to create two arrays of the integers from 20 to 80 for odd and even numbers. <br>"
   ]
  },
  {
   "cell_type": "code",
   "execution_count": 28,
   "metadata": {},
   "outputs": [
    {
     "name": "stdout",
     "output_type": "stream",
     "text": [
      "\n",
      " -3.1.5 \n",
      "[20 22 24 26 28 30 32 34 36 38 40 42 44 46 48 50 52 54 56 58 60 62 64 66\n",
      " 68 70 72 74 76 78 80]\n",
      "[21 23 25 27 29 31 33 35 37 39 41 43 45 47 49 51 53 55 57 59 61 63 65 67\n",
      " 69 71 73 75 77 79]\n"
     ]
    }
   ],
   "source": [
    "##3.1.5\n",
    "print(\"\\n -3.1.5 \")\n",
    "veven = np.arange(20, 81, 2)\n",
    "print(veven)\n",
    "vodd= np.arange(21, 81, 2)\n",
    "print(vodd)"
   ]
  },
  {
   "cell_type": "markdown",
   "metadata": {},
   "source": [
    "\n",
    "### Write a NumPy program to create a 5x4 matrix filled with values from 5 to 15. <br>"
   ]
  },
  {
   "cell_type": "code",
   "execution_count": 29,
   "metadata": {},
   "outputs": [
    {
     "name": "stdout",
     "output_type": "stream",
     "text": [
      "\n",
      " -3.1.6 \n"
     ]
    }
   ],
   "source": [
    "##3.1.6 \n",
    "print(\"\\n -3.1.6 \")\n",
    "y=np.random.randint(5,15,20).reshape((5, 4))"
   ]
  },
  {
   "cell_type": "markdown",
   "metadata": {},
   "source": [
    "### Write a NumPy program to create a 5x5 identity matrix with diagonal elements are 1, the rest are 0. <br>"
   ]
  },
  {
   "cell_type": "code",
   "execution_count": 30,
   "metadata": {},
   "outputs": [
    {
     "name": "stdout",
     "output_type": "stream",
     "text": [
      "\n",
      " -3.1.7 \n",
      "[[1. 0. 0. 0. 0.]\n",
      " [0. 1. 0. 0. 0.]\n",
      " [0. 0. 1. 0. 0.]\n",
      " [0. 0. 0. 1. 0.]\n",
      " [0. 0. 0. 0. 1.]]\n",
      "\n",
      " -3.1.8 \n"
     ]
    }
   ],
   "source": [
    "##3.1.7\n",
    "print(\"\\n -3.1.7 \")\n",
    "z=np.eye(5)\n",
    "print(z)\n",
    "print(\"\\n -3.1.8 \")"
   ]
  },
  {
   "cell_type": "markdown",
   "metadata": {},
   "source": [
    "### Write a NumPy program to create a 12x12 matrix, in which the elements on the borders will be equal to 1, and inside 0. <br>"
   ]
  },
  {
   "cell_type": "code",
   "execution_count": 31,
   "metadata": {},
   "outputs": [
    {
     "name": "stdout",
     "output_type": "stream",
     "text": [
      " ones around B: \n",
      "[[1 1 1 1 1 1 1 1 1 1 1 1]\n",
      " [1 0 0 0 0 0 0 0 0 0 0 1]\n",
      " [1 0 0 0 0 0 0 0 0 0 0 1]\n",
      " [1 0 0 0 0 0 0 0 0 0 0 1]\n",
      " [1 0 0 0 0 0 0 0 0 0 0 1]\n",
      " [1 0 0 0 0 0 0 0 0 0 0 1]\n",
      " [1 0 0 0 0 0 0 0 0 0 0 1]\n",
      " [1 0 0 0 0 0 0 0 0 0 0 1]\n",
      " [1 0 0 0 0 0 0 0 0 0 0 1]\n",
      " [1 0 0 0 0 0 0 0 0 0 0 1]\n",
      " [1 0 0 0 0 0 0 0 0 0 0 1]\n",
      " [1 1 1 1 1 1 1 1 1 1 1 1]]\n"
     ]
    }
   ],
   "source": [
    "#3.1.8 code from nupy projects \n",
    "b=np.zeros([10,10],dtype=int)\n",
    "b =np.pad(b,pad_width=1, mode='constant', constant_values=1)\n",
    "print (f' ones around B: \\n{b}')\n"
   ]
  },
  {
   "cell_type": "markdown",
   "metadata": {},
   "source": [
    "### Write a NumPy program to compute the sum of all elements, sum of each column and sum of each row of a given array <br>"
   ]
  },
  {
   "cell_type": "code",
   "execution_count": 32,
   "metadata": {},
   "outputs": [
    {
     "name": "stdout",
     "output_type": "stream",
     "text": [
      "\n",
      " -3.1.9 \n",
      " Sum of each column:[12  2  2  2  2  2  2  2  2  2  2 12]\n",
      " Sum of each column:[12  2  2  2  2  2  2  2  2  2  2 12]\n"
     ]
    }
   ],
   "source": [
    "##3.1.9\n",
    "print(\"\\n -3.1.9 \")\n",
    "print(f' Sum of each column:{np.sum(b, axis=0)}')\n",
    "print(f' Sum of each column:{np.sum(b, axis=1)}')\n"
   ]
  },
  {
   "cell_type": "markdown",
   "metadata": {},
   "source": [
    "### Write a NumPy program to save a given array to a text file and load it.  <br>"
   ]
  },
  {
   "cell_type": "code",
   "execution_count": 33,
   "metadata": {},
   "outputs": [
    {
     "name": "stdout",
     "output_type": "stream",
     "text": [
      "\n",
      " -3.1.10 \n",
      "[[1. 1. 1. 1. 1. 1. 1. 1. 1. 1. 1. 1.]\n",
      " [1. 0. 0. 0. 0. 0. 0. 0. 0. 0. 0. 1.]\n",
      " [1. 0. 0. 0. 0. 0. 0. 0. 0. 0. 0. 1.]\n",
      " [1. 0. 0. 0. 0. 0. 0. 0. 0. 0. 0. 1.]\n",
      " [1. 0. 0. 0. 0. 0. 0. 0. 0. 0. 0. 1.]\n",
      " [1. 0. 0. 0. 0. 0. 0. 0. 0. 0. 0. 1.]\n",
      " [1. 0. 0. 0. 0. 0. 0. 0. 0. 0. 0. 1.]\n",
      " [1. 0. 0. 0. 0. 0. 0. 0. 0. 0. 0. 1.]\n",
      " [1. 0. 0. 0. 0. 0. 0. 0. 0. 0. 0. 1.]\n",
      " [1. 0. 0. 0. 0. 0. 0. 0. 0. 0. 0. 1.]\n",
      " [1. 0. 0. 0. 0. 0. 0. 0. 0. 0. 0. 1.]\n",
      " [1. 1. 1. 1. 1. 1. 1. 1. 1. 1. 1. 1.]]\n"
     ]
    }
   ],
   "source": [
    "##3.1.10\n",
    "print(\"\\n -3.1.10 \")\n",
    "np.savetxt('3-1-10.txt', b) \n",
    "result = np.loadtxt('3-1-10.txt')\n",
    "print(result)"
   ]
  },
  {
   "cell_type": "markdown",
   "metadata": {},
   "source": [
    "## Numpy Arrays \n",
    "Task: Please complete the following tasks. <br>"
   ]
  },
  {
   "cell_type": "code",
   "execution_count": 34,
   "metadata": {},
   "outputs": [],
   "source": [
    "import numpy as np"
   ]
  },
  {
   "cell_type": "markdown",
   "metadata": {},
   "source": [
    "### Write a NumPy program to convert a list and tuple into arrays. <br>\n"
   ]
  },
  {
   "cell_type": "code",
   "execution_count": 35,
   "metadata": {},
   "outputs": [
    {
     "name": "stdout",
     "output_type": "stream",
     "text": [
      "-3.2.1 \n",
      "[8, 9, 2, 5, 7, 3, 3, 8, 2, 3, 8, 4, 8, 6, 9, 8, 6, 8, 5, 8]\n",
      "(7, 5, 8, 9, 6, 2, 8, 8, 6, 3, 6, 8, 5, 2, 6, 8, 1, 4, 4, 3)\n",
      "[8 9 2 5 7 3 3 8 2 3 8 4 8 6 9 8 6 8 5 8]\n",
      "[7 5 8 9 6 2 8 8 6 3 6 8 5 2 6 8 1 4 4 3]\n"
     ]
    }
   ],
   "source": [
    "#3.2.1\n",
    "print(\"-3.2.1 \")\n",
    "x = list(np.random.randint(10, size=20))\n",
    "y = tuple(np.random.randint(10, size=20))\n",
    "print(x)\n",
    "print(y)\n",
    "x=np.array(x)\n",
    "y=np.array(y)\n",
    "print(x)\n",
    "print(y)\n",
    "\n"
   ]
  },
  {
   "cell_type": "markdown",
   "metadata": {},
   "source": [
    "### Write a NumPy program to append values to the end of an array. <br>\n"
   ]
  },
  {
   "cell_type": "code",
   "execution_count": 36,
   "metadata": {},
   "outputs": [
    {
     "name": "stdout",
     "output_type": "stream",
     "text": [
      "\n",
      " -3.2.2 \n",
      "[8 9 2 5 7 3 3 8 2 3 8 4 8 6 9 8 6 8 5 8 7 8 9]\n"
     ]
    }
   ],
   "source": [
    "#3.2.2\n",
    "print(\"\\n -3.2.2 \")\n",
    "x = np.append(x, [7,8,9])\n",
    "print(x)\n"
   ]
  },
  {
   "cell_type": "markdown",
   "metadata": {},
   "source": [
    "### Write a NumPy program to convert the values of Centigrade degrees into Fahrenheit degrees. Centigrade values are stored into a NumPy array.  <br>"
   ]
  },
  {
   "cell_type": "code",
   "execution_count": 37,
   "metadata": {},
   "outputs": [
    {
     "name": "stdout",
     "output_type": "stream",
     "text": [
      "\n",
      " -3.2.3 \n",
      "[-6.11111111 -4.44444444  0.55555556]\n"
     ]
    }
   ],
   "source": [
    "\n",
    "#3.2.3\n",
    "print(\"\\n -3.2.3 \")\n",
    "celsius = np.array([21,24,33])\n",
    "f=[]\n",
    "for i in celsius:\n",
    "    f.append(5*i/9 - 5*32/9)\n",
    "f=np.array(f)\n",
    "print(f)\n",
    "\n"
   ]
  },
  {
   "cell_type": "markdown",
   "metadata": {},
   "source": [
    "\n",
    "### Write a NumPy program to find the real and imaginary parts of an array of complex numbers. <br>\n"
   ]
  },
  {
   "cell_type": "code",
   "execution_count": 38,
   "metadata": {},
   "outputs": [
    {
     "name": "stdout",
     "output_type": "stream",
     "text": [
      "\n",
      " -3.2.4 \n",
      " for (2+4j) the real part is :2.0, and the imaginary part is :4.0\n",
      " for (3+4j) the real part is :3.0, and the imaginary part is :4.0\n",
      " for (2+4j) the real part is :2.0, and the imaginary part is :4.0\n",
      " for (1+3j) the real part is :1.0, and the imaginary part is :3.0\n",
      " for (2+4j) the real part is :2.0, and the imaginary part is :4.0\n",
      " for (1+3j) the real part is :1.0, and the imaginary part is :3.0\n"
     ]
    }
   ],
   "source": [
    "#3.2.4\n",
    "print(\"\\n -3.2.4 \")\n",
    "a = np.array([2+4j, 3+4j, 2+4j, 1+3j,2+4j, 1+3j])\n",
    "aa=0\n",
    "for i in a:\n",
    "    aa=(i)\n",
    "    print(f' for {i} the real part is :{aa.real}, and the imaginary part is :{aa.imag}')\n"
   ]
  },
  {
   "cell_type": "markdown",
   "metadata": {},
   "source": [
    "### Write a NumPy program to test whether each element of a 1-D array is also present in a second array. <br>\n"
   ]
  },
  {
   "cell_type": "code",
   "execution_count": 39,
   "metadata": {},
   "outputs": [
    {
     "name": "stdout",
     "output_type": "stream",
     "text": [
      "\n",
      " -3.2.5 \n",
      "[5, 1, 0, 14, 1, 1, 2, 5, 11, 2, 5, 5, 8, 3, 13, 9, 4, 6, 13, 5]\n",
      "(13, 0, 14, 9, 2, 8, 6, 7, 3, 2, 8, 12, 3, 2, 14, 11, 3, 7, 7, 13)\n",
      "[False False  True  True False False  True False  True  True False False\n",
      "  True  True  True  True False  True  True False]\n"
     ]
    }
   ],
   "source": [
    "    \n",
    "#3.2.5\n",
    "print(\"\\n -3.2.5 \")\n",
    "k = list(np.random.randint(15, size=20))\n",
    "kk = tuple(np.random.randint(15, size=20))\n",
    "print(k)\n",
    "print(kk)\n",
    "print(np.in1d(k, kk))\n",
    "    \n"
   ]
  },
  {
   "cell_type": "markdown",
   "metadata": {},
   "source": [
    "### Write a NumPy program to find common values between two arrays. <br>\n"
   ]
  },
  {
   "cell_type": "code",
   "execution_count": 40,
   "metadata": {},
   "outputs": [
    {
     "name": "stdout",
     "output_type": "stream",
     "text": [
      "\n",
      " -3.2.6 \n",
      "[ 0  2  3  6  8  9 11 13 14]\n"
     ]
    }
   ],
   "source": [
    "#3.2.6\n",
    "print(\"\\n -3.2.6 \")\n",
    "print(np.intersect1d(k, kk))\n",
    "\n"
   ]
  },
  {
   "cell_type": "markdown",
   "metadata": {},
   "source": [
    "### Write a NumPy program to get the unique elements of an array. <br>\n"
   ]
  },
  {
   "cell_type": "code",
   "execution_count": 41,
   "metadata": {},
   "outputs": [
    {
     "name": "stdout",
     "output_type": "stream",
     "text": [
      "\n",
      " -3.2.7 \n",
      "[ 0  1  2  3  4  5  6  8  9 11 13 14]\n"
     ]
    }
   ],
   "source": [
    "#3.2.7\n",
    "print(\"\\n -3.2.7 \")\n",
    "print(np.unique(k))\n",
    "\n"
   ]
  },
  {
   "cell_type": "markdown",
   "metadata": {},
   "source": [
    "### Write a NumPy program to find the set difference of two arrays. The set difference will return the sorted, unique values in array1 that are not in array2. <br>"
   ]
  },
  {
   "cell_type": "code",
   "execution_count": 42,
   "metadata": {},
   "outputs": [
    {
     "name": "stdout",
     "output_type": "stream",
     "text": [
      "\n",
      " -3.2.8 \n",
      "[ 1  4  5  7 12]\n"
     ]
    }
   ],
   "source": [
    "#3.2.8\n",
    "print(\"\\n -3.2.8 \")\n",
    "print(np.setxor1d(k, kk))"
   ]
  },
  {
   "cell_type": "markdown",
   "metadata": {},
   "source": [
    "### Write a NumPy program to find the union of two arrays. Union will return the unique, sorted array of values that are in either of the two input arrays. <br>\n"
   ]
  },
  {
   "cell_type": "code",
   "execution_count": 43,
   "metadata": {},
   "outputs": [
    {
     "name": "stdout",
     "output_type": "stream",
     "text": [
      "\n",
      " -3.2.9 \n",
      "[ 0  1  2  3  4  5  6  7  8  9 11 12 13 14]\n"
     ]
    }
   ],
   "source": [
    "#3.2.9\n",
    "print(\"\\n -3.2.9 \")\n",
    "print(np.union1d(k, kk))"
   ]
  },
  {
   "cell_type": "markdown",
   "metadata": {},
   "source": [
    "### Write a NumPy program to find the indices of the maximum and minimum values along the given axis of an array. <br>\n"
   ]
  },
  {
   "cell_type": "code",
   "execution_count": 44,
   "metadata": {},
   "outputs": [
    {
     "name": "stdout",
     "output_type": "stream",
     "text": [
      "\n",
      " -3.2.10 \n",
      "Max: 1\n",
      "Min: 2\n"
     ]
    }
   ],
   "source": [
    "#3.2.10\n",
    "print(\"\\n -3.2.10 \")\n",
    "print(f'Max: {np.argmax(x)}')\n",
    "print(f'Min: {np.argmin(x)}')"
   ]
  },
  {
   "cell_type": "markdown",
   "metadata": {},
   "source": [
    "### Write a NumPy program compare two given arrays. <br>\n"
   ]
  },
  {
   "cell_type": "code",
   "execution_count": 45,
   "metadata": {},
   "outputs": [
    {
     "name": "stdout",
     "output_type": "stream",
     "text": [
      "\n",
      " -3.2.11 \n",
      "k > kk\n",
      "[False  True False  True False False False False  True False False False\n",
      "  True  True False False  True False  True False]\n",
      "k == kk\n",
      "[False False False False False False False False False  True False False\n",
      " False False False False False False False False]\n"
     ]
    }
   ],
   "source": [
    "\n",
    "#3.2.11\n",
    "print(\"\\n -3.2.11 \")\n",
    "print(\"k > kk\")\n",
    "print(np.greater(k, kk))\n",
    "print(\"k == kk\")\n",
    "print(np.equal(k, kk))\n"
   ]
  },
  {
   "cell_type": "markdown",
   "metadata": {},
   "source": [
    "### Write a NumPy program to create a contiguous flattened array. <br>\n"
   ]
  },
  {
   "cell_type": "code",
   "execution_count": 46,
   "metadata": {},
   "outputs": [
    {
     "name": "stdout",
     "output_type": "stream",
     "text": [
      "\n",
      " -3.2.12 \n",
      "[[1. 1. 1. 1. 1.]\n",
      " [1. 1. 1. 1. 1.]\n",
      " [1. 1. 1. 1. 1.]\n",
      " [1. 1. 1. 1. 1.]]\n",
      "[1. 1. 1. 1. 1. 1. 1. 1. 1. 1. 1. 1. 1. 1. 1. 1. 1. 1. 1. 1.]\n"
     ]
    }
   ],
   "source": [
    "\n",
    "#3.2.12\n",
    "print(\"\\n -3.2.12 \")\n",
    "r = np.ones((4, 5))\n",
    "print(r)\n",
    "rr= np.ravel(r)\n",
    "print(rr)\n"
   ]
  },
  {
   "cell_type": "markdown",
   "metadata": {},
   "source": [
    "### Write a NumPy program to create a new array of 4x5, filled with 3. <br>\n"
   ]
  },
  {
   "cell_type": "code",
   "execution_count": 47,
   "metadata": {},
   "outputs": [
    {
     "name": "stdout",
     "output_type": "stream",
     "text": [
      "\n",
      " -3.2.13 \n",
      "[[3. 3. 3. 3. 3.]\n",
      " [3. 3. 3. 3. 3.]\n",
      " [3. 3. 3. 3. 3.]\n",
      " [3. 3. 3. 3. 3.]]\n"
     ]
    }
   ],
   "source": [
    "#3.2.13\n",
    "print(\"\\n -3.2.13 \")\n",
    "t = np.ones((4, 5))*3\n",
    "print(t)"
   ]
  },
  {
   "cell_type": "markdown",
   "metadata": {},
   "source": [
    "### Write a NumPy program to create a new shape to an array without changing its data <br>\n"
   ]
  },
  {
   "cell_type": "code",
   "execution_count": 48,
   "metadata": {},
   "outputs": [
    {
     "name": "stdout",
     "output_type": "stream",
     "text": [
      "\n",
      " -3.2.14 \n",
      "[ 6 10  8 13 11  6 13  5 12  5  5 10  4  0 14  6  2  2 10 10]\n",
      "[[ 6 10  8 13]\n",
      " [11  6 13  5]\n",
      " [12  5  5 10]\n",
      " [ 4  0 14  6]\n",
      " [ 2  2 10 10]]\n"
     ]
    }
   ],
   "source": [
    "#3.2.14\n",
    "print(\"\\n -3.2.14 \")\n",
    "tt = np.random.randint(15, size=20)\n",
    "print(tt)\n",
    "ttt= np.reshape(tt, (5,4))\n",
    "print(ttt)"
   ]
  },
  {
   "cell_type": "markdown",
   "metadata": {},
   "source": [
    "### Write a NumPy program to create a 1-D array of 24 elements. Now create a new array of shape (6, 4) from the said array, then restores the reshaped array into a 1-D array. <br>\n"
   ]
  },
  {
   "cell_type": "code",
   "execution_count": 49,
   "metadata": {},
   "outputs": [
    {
     "name": "stdout",
     "output_type": "stream",
     "text": [
      "\n",
      " -3.2.15 \n",
      "[ 5  9  6  4 14  6 14  6 12 12  7  1  2 11 12  2 12  8  9 13  2  0  4  5]\n",
      "[[ 5  9  6  4]\n",
      " [14  6 14  6]\n",
      " [12 12  7  1]\n",
      " [ 2 11 12  2]\n",
      " [12  8  9 13]\n",
      " [ 2  0  4  5]]\n",
      "[ 5  9  6  4 14  6 14  6 12 12  7  1  2 11 12  2 12  8  9 13  2  0  4  5]\n"
     ]
    }
   ],
   "source": [
    "#3.2.15\n",
    "print(\"\\n -3.2.15 \")\n",
    "ttt = np.random.randint(15, size=24)\n",
    "print(ttt)\n",
    "tttt= np.reshape(ttt, (6,4))\n",
    "print(tttt)\n",
    "tx=np.ravel(tttt)\n",
    "print(tx)"
   ]
  },
  {
   "cell_type": "markdown",
   "metadata": {},
   "source": [
    "### Write a NumPy program to create an array of 4,5 shape and swap column1 with column4. <br>\n"
   ]
  },
  {
   "cell_type": "code",
   "execution_count": 50,
   "metadata": {},
   "outputs": [
    {
     "name": "stdout",
     "output_type": "stream",
     "text": [
      "\n",
      " -3.2.16 \n",
      "[[ 0  1  2  3  4]\n",
      " [ 5  6  7  8  9]\n",
      " [10 11 12 13 14]\n",
      " [15 16 17 18 19]]\n",
      "[[ 3  1  2  0  4]\n",
      " [ 8  6  7  5  9]\n",
      " [13 11 12 10 14]\n",
      " [18 16 17 15 19]]\n"
     ]
    }
   ],
   "source": [
    "#3.2.16\n",
    "print(\"\\n -3.2.16 \")\n",
    "c = np.arange(20).reshape(4,5)\n",
    "print(c)\n",
    "c[:,[0,3]] = c[:,[3,0]]\n",
    "print(c)"
   ]
  },
  {
   "cell_type": "markdown",
   "metadata": {},
   "source": [
    "### Write a NumPy program to replace all the nan (missing values) of a given array with the mean of another array. \n",
    "<br>"
   ]
  },
  {
   "cell_type": "code",
   "execution_count": 51,
   "metadata": {},
   "outputs": [
    {
     "name": "stdout",
     "output_type": "stream",
     "text": [
      "\n",
      " -3.2.17 \n",
      "[[1. 1.]\n",
      " [1. 1.]\n",
      " [1. 1.]\n",
      " [1. 1.]\n",
      " [1. 1.]]\n",
      "[[ 1. nan]\n",
      " [ 4.  5.]\n",
      " [nan  7.]\n",
      " [nan  7.]]\n",
      "[[1. 1.]\n",
      " [4. 5.]\n",
      " [1. 7.]\n",
      " [1. 7.]]\n"
     ]
    }
   ],
   "source": [
    "#3.2.17\n",
    "print(\"\\n -3.2.17 \")\n",
    "b = np.ones(10).reshape(5,2)\n",
    "bb = np.array([[1,np.nan],[4,5],[np.nan, 7],[np.nan, 7]])\n",
    "print(b)\n",
    "print(bb)\n",
    "bb[np.isnan(bb)]= np.nanmean(b)\n",
    "print(bb)\n"
   ]
  },
  {
   "cell_type": "markdown",
   "metadata": {},
   "source": [
    "## Numpy Linear Algebra \n",
    "Task: Please complete the following tasks.  "
   ]
  },
  {
   "cell_type": "code",
   "execution_count": 52,
   "metadata": {},
   "outputs": [],
   "source": [
    "import numpy as np\n"
   ]
  },
  {
   "cell_type": "markdown",
   "metadata": {},
   "source": [
    "### Write a NumPy program to compute the multiplication of two given matrixes.<br>\n"
   ]
  },
  {
   "cell_type": "code",
   "execution_count": 53,
   "metadata": {},
   "outputs": [
    {
     "name": "stdout",
     "output_type": "stream",
     "text": [
      "-3.3.1 \n",
      "[[  0   1   4   9]\n",
      " [ 16  25  36  49]\n",
      " [ 64  81 100 121]\n",
      " [144 169 196 225]]\n"
     ]
    }
   ],
   "source": [
    "#3.3.1\n",
    "print(\"-3.3.1 \")\n",
    "x = np.arange(16).reshape(4,4)\n",
    "y = np.arange(16).reshape(4,4)\n",
    "z = np.multiply(x,y)\n",
    "print(z)\n"
   ]
  },
  {
   "cell_type": "markdown",
   "metadata": {},
   "source": [
    "### Write a NumPy program to compute the inverse of a given matrix. <br>\n"
   ]
  },
  {
   "cell_type": "code",
   "execution_count": 54,
   "metadata": {},
   "outputs": [
    {
     "name": "stdout",
     "output_type": "stream",
     "text": [
      "\n",
      " -3.3.2 \n",
      "[[ 9.00719925e+14 -4.50359963e+14 -1.80143985e+15  1.35107989e+15]\n",
      " [-2.40191980e+15  2.70215978e+15  1.80143985e+15 -2.10167983e+15]\n",
      " [ 2.10167983e+15 -4.05323966e+15  1.80143985e+15  1.50119988e+14]\n",
      " [-6.00479950e+14  1.80143985e+15 -1.80143985e+15  6.00479950e+14]]\n"
     ]
    }
   ],
   "source": [
    "#3.3.2\n",
    "print(\"\\n -3.3.2 \")\n",
    "zz = np.linalg.inv(x)\n",
    "print(zz)\n"
   ]
  },
  {
   "cell_type": "markdown",
   "metadata": {},
   "source": [
    "### Write a NumPy program to compute the division of two given matrixes. <br>\n"
   ]
  },
  {
   "cell_type": "code",
   "execution_count": 55,
   "metadata": {},
   "outputs": [
    {
     "name": "stdout",
     "output_type": "stream",
     "text": [
      "\n",
      " -3.3.3 \n",
      "[[nan  1.  2.  3.]\n",
      " [ 4.  5.  6.  7.]\n",
      " [ 8.  9. 10. 11.]\n",
      " [12. 13. 14. 15.]]\n"
     ]
    },
    {
     "name": "stderr",
     "output_type": "stream",
     "text": [
      "/Users/uriel/opt/anaconda3/lib/python3.7/site-packages/ipykernel_launcher.py:3: RuntimeWarning: invalid value encountered in true_divide\n",
      "  This is separate from the ipykernel package so we can avoid doing imports until\n"
     ]
    }
   ],
   "source": [
    "#3.3.3\n",
    "print(\"\\n -3.3.3 \")\n",
    "xy = np.divide(z,y)\n",
    "print(xy)\n"
   ]
  },
  {
   "cell_type": "markdown",
   "metadata": {},
   "source": [
    "### Write a NumPy program to compute the sum of the diagonal elements of a given array. <br>\n"
   ]
  },
  {
   "cell_type": "code",
   "execution_count": 56,
   "metadata": {},
   "outputs": [
    {
     "name": "stdout",
     "output_type": "stream",
     "text": [
      "\n",
      " -3.3.4 \n",
      "[[ 0  1  2  3]\n",
      " [ 4  5  6  7]\n",
      " [ 8  9 10 11]\n",
      " [12 13 14 15]]\n",
      "30\n"
     ]
    }
   ],
   "source": [
    "#3.3.4\n",
    "print(\"\\n -3.3.4 \")\n",
    "j = np.arange(16).reshape(4,4)\n",
    "print(j)\n",
    "jj=  np.trace(j)\n",
    "print(jj)\n"
   ]
  },
  {
   "cell_type": "markdown",
   "metadata": {},
   "source": [
    "### Write a NumPy program to get the lower-triangular L in the Cholesky decomposition of a given array <br>\n"
   ]
  },
  {
   "cell_type": "code",
   "execution_count": 57,
   "metadata": {},
   "outputs": [
    {
     "name": "stdout",
     "output_type": "stream",
     "text": [
      "\n",
      " -3.3.5 \n",
      "[[1. 0. 0. 0.]\n",
      " [1. 1. 0. 0.]\n",
      " [1. 1. 1. 0.]\n",
      " [1. 1. 1. 1.]]\n"
     ]
    }
   ],
   "source": [
    "#3.3.5\n",
    "print(\"\\n -3.3.5 \")\n",
    "h = np.array([[1,2,3,4], [1,2,3,4], [1,2,3,4],[1,2,3,4]], dtype=np.int32)\n",
    "D = np.linalg.cholesky(h)\n",
    "print(D)\n"
   ]
  },
  {
   "cell_type": "markdown",
   "metadata": {},
   "source": [
    "### Write a NumPy program to compute the factor of a given array by Singular Value Decomposition <br>\n"
   ]
  },
  {
   "cell_type": "code",
   "execution_count": 58,
   "metadata": {},
   "outputs": [
    {
     "name": "stdout",
     "output_type": "stream",
     "text": [
      "\n",
      " -3.3.6 \n",
      "U= [[-5.00000000e-01  8.66025404e-01  0.00000000e+00  0.00000000e+00]\n",
      " [-5.00000000e-01 -2.88675135e-01  8.16496581e-01 -8.75605293e-17]\n",
      " [-5.00000000e-01 -2.88675135e-01 -4.08248290e-01 -7.07106781e-01]\n",
      " [-5.00000000e-01 -2.88675135e-01 -4.08248290e-01  7.07106781e-01]] \n",
      " sum= [1.09544512e+01 9.45320842e-17 1.70751649e-48 2.04063275e-67] \n",
      " V= [[-0.18257419 -0.36514837 -0.54772256 -0.73029674]\n",
      " [ 0.98319208 -0.06780635 -0.10170953 -0.1356127 ]\n",
      " [-0.         -0.08658666 -0.77573288  0.62509299]\n",
      " [ 0.          0.92443048 -0.29646867 -0.23986374]]\n"
     ]
    }
   ],
   "source": [
    "#3.3.6\n",
    "print(\"\\n -3.3.6 \")\n",
    "six = np.array([[1,2,3,4], [1,2,3,4], [1,2,3,4],[1,2,3,4]], dtype=np.int32)\n",
    "U, summ, V = np.linalg.svd(six, full_matrices=False)\n",
    "print(f'U= {U} \\n sum= {summ} \\n V= {V}')\n"
   ]
  },
  {
   "cell_type": "markdown",
   "metadata": {},
   "source": [
    "### Write a NumPy program to generate five random numbers from the normal distribution. <br>\n"
   ]
  },
  {
   "cell_type": "code",
   "execution_count": 59,
   "metadata": {},
   "outputs": [
    {
     "name": "stdout",
     "output_type": "stream",
     "text": [
      "\n",
      " -3.3.7 \n",
      "[-1.92558745  1.03755355 -1.71852374  0.47814874 -1.01379814]\n"
     ]
    }
   ],
   "source": [
    "#3.3.7\n",
    "print(\"\\n -3.3.7 \")\n",
    "seven = np.random.normal(size=5)\n",
    "print(seven)\n",
    "\n"
   ]
  },
  {
   "cell_type": "markdown",
   "metadata": {},
   "source": [
    "### Write a NumPy program to generate six random integers between 10 and 30. <br>\n"
   ]
  },
  {
   "cell_type": "code",
   "execution_count": 60,
   "metadata": {},
   "outputs": [
    {
     "name": "stdout",
     "output_type": "stream",
     "text": [
      "\n",
      " -3.3.8 \n",
      "[27 24 29 17 12 29]\n"
     ]
    }
   ],
   "source": [
    "#3.3.8\n",
    "print(\"\\n -3.3.8 \")\n",
    "eight = np.random.randint(10, 31, 6)\n",
    "print(eight)\n",
    "\n"
   ]
  },
  {
   "cell_type": "markdown",
   "metadata": {},
   "source": [
    "### Write a NumPy program to create a 4x4 array with random values and find the minimum and maximum values. <br>"
   ]
  },
  {
   "cell_type": "code",
   "execution_count": 61,
   "metadata": {},
   "outputs": [
    {
     "name": "stdout",
     "output_type": "stream",
     "text": [
      "\n",
      " -3.3.9 \n",
      "[[0.53862907 0.59185645 0.6001203  0.99961883]\n",
      " [0.83681402 0.55606191 0.87859225 0.5296864 ]\n",
      " [0.36763766 0.87368201 0.17480925 0.60811564]\n",
      " [0.05868247 0.02206567 0.50631481 0.61280163]]\n",
      " min: 0.022065667585436044 max: 0.9996188348622193\n"
     ]
    }
   ],
   "source": [
    "#3.3.9\n",
    "print(\"\\n -3.3.9 \")\n",
    "nine = np.random.random((4,4))\n",
    "print(nine)\n",
    "print(f' min: {nine.min()} max: {nine.max()}')"
   ]
  },
  {
   "cell_type": "markdown",
   "metadata": {},
   "source": [
    "### Write a NumPy program to normalize a 4x4 random matrix. <br>\n"
   ]
  },
  {
   "cell_type": "code",
   "execution_count": 62,
   "metadata": {},
   "outputs": [
    {
     "name": "stdout",
     "output_type": "stream",
     "text": [
      "\n",
      " -3.3.10 \n",
      "[[0.04482781 0.16260351 0.99004717 0.21556987]\n",
      " [0.76229824 0.9091217  0.17950838 0.39938413]\n",
      " [0.61888236 0.33528073 0.88565414 0.38759709]\n",
      " [0.04864893 0.68601461 0.62684168 0.42471649]]\n",
      " normalized: \n",
      " [[0.         0.12460146 1.         0.1806375 ]\n",
      " [0.75905177 0.91438445 0.14248605 0.3751048 ]\n",
      " [0.60732415 0.30728626 0.88955682 0.36263464]\n",
      " [0.00404258 0.67834709 0.61574477 0.40190531]]\n"
     ]
    }
   ],
   "source": [
    "#3.3.10\n",
    "print(\"\\n -3.3.10 \")\n",
    "ten= np.random.random((4,4))\n",
    "print(ten)\n",
    "max1=ten.max()\n",
    "min1=ten.min()\n",
    "tenn = (ten - min1)/(max1 - min1)\n",
    "print(f' normalized: \\n {tenn}')"
   ]
  },
  {
   "cell_type": "markdown",
   "metadata": {},
   "source": [
    "### Write a NumPy program to create random (integer values between 0 and 10) 10x0 matrix and replace the maximum value by 999.  <br>\n"
   ]
  },
  {
   "cell_type": "code",
   "execution_count": 63,
   "metadata": {},
   "outputs": [
    {
     "name": "stdout",
     "output_type": "stream",
     "text": [
      "\n",
      " -3.3.11 \n",
      "[13  7 12 13  8  0 12  4  9  8]\n",
      "[999   7  12  13   8   0  12   4   9   8]\n"
     ]
    }
   ],
   "source": [
    "#3.3.11\n",
    "print(\"\\n -3.3.11 \")\n",
    "eleven = np.random.randint(0,15,10)\n",
    "print(eleven)\n",
    "eleven[eleven.argmax()] = 999\n",
    "print(eleven)\n"
   ]
  },
  {
   "cell_type": "markdown",
   "metadata": {},
   "source": [
    "### Write a NumPy program to create random (integer values between -5 and 5) 10x0 matrix between 0 and 10 and replace all -5 and -4 values by -999 and all positive 5 and 4 by 999. <br>\n"
   ]
  },
  {
   "cell_type": "code",
   "execution_count": 64,
   "metadata": {},
   "outputs": [
    {
     "name": "stdout",
     "output_type": "stream",
     "text": [
      "\n",
      " -3.3.12 \n",
      "[ 3  5 -1 -1 -1  2  5 -3  2 -2]\n",
      "[  3 999  -1  -1  -1   2 999  -3   2  -2]\n"
     ]
    }
   ],
   "source": [
    "#3.3.12\n",
    "print(\"\\n -3.3.12 \")\n",
    "twelve = np.random.randint(-5, 6, 10)\n",
    "print(twelve)\n",
    "twelve = np.where(twelve==4,999,twelve)\n",
    "twelve = np.where(twelve==5,999,twelve)\n",
    "twelve = np.where(twelve==-4,-999,twelve)\n",
    "twelve = np.where(twelve==-5,-999,twelve)\n",
    "print(twelve)"
   ]
  },
  {
   "cell_type": "markdown",
   "metadata": {},
   "source": [
    "### Write a NumPy program to find the most frequent value in an array. <br>\n"
   ]
  },
  {
   "cell_type": "code",
   "execution_count": 65,
   "metadata": {},
   "outputs": [
    {
     "name": "stdout",
     "output_type": "stream",
     "text": [
      "\n",
      " -3.3.13 \n",
      "[1 0 0 2 1 1 4 4 2 0]\n",
      " Most comon value: 0\n"
     ]
    }
   ],
   "source": [
    "#3.3.13\n",
    "print(\"\\n -3.3.13 \")\n",
    "thirdt = np.random.randint(0, 6, 10)\n",
    "print(thirdt)\n",
    "print(f' Most comon value: {np.bincount(thirdt).argmax()}')"
   ]
  },
  {
   "cell_type": "markdown",
   "metadata": {},
   "source": [
    "### Write a NumPy random complex number matrix (size 5x5) and convert them to polar form.  <br>\n"
   ]
  },
  {
   "cell_type": "code",
   "execution_count": 66,
   "metadata": {},
   "outputs": [
    {
     "name": "stdout",
     "output_type": "stream",
     "text": [
      "\n",
      " -3.3.14 \n",
      "[0.07089705+0.9973211j  0.27075949+0.0790341j  0.74366933+0.13133383j\n",
      " 0.2445004 +0.58037283j 0.69171491+0.40337822j 0.56800728+0.58256665j\n",
      " 0.70730942+0.82664238j 0.2944755 +0.91394563j 0.64167652+0.06835927j\n",
      " 0.72069363+0.05965351j]\n"
     ]
    }
   ],
   "source": [
    "#3.3.14\n",
    "print(\"\\n -3.3.14 \")\n",
    "fourtht = np.random.random(10) + np.random.random(10) * 1j\n",
    "print(fourtht)"
   ]
  },
  {
   "cell_type": "markdown",
   "metadata": {},
   "source": [
    "### Write a NumPy program to round elements of the array to the nearest integer.  <br>"
   ]
  },
  {
   "cell_type": "code",
   "execution_count": 67,
   "metadata": {},
   "outputs": [
    {
     "name": "stdout",
     "output_type": "stream",
     "text": [
      "\n",
      " -3.3.15 \n",
      "[0.24712653 0.22128888 0.96322385 0.43915982 0.62240557 0.22343876\n",
      " 0.81580784 0.06736728 0.65713295 0.87557827]\n",
      "[0. 0. 1. 0. 1. 0. 1. 0. 1. 1.]\n"
     ]
    }
   ],
   "source": [
    "#3.3.15\n",
    "print(\"\\n -3.3.15 \")\n",
    "fteen = np.random.rand(10)\n",
    "print(fteen)\n",
    "fteeni = np.rint(fteen)\n",
    "print(fteeni)"
   ]
  },
  {
   "cell_type": "markdown",
   "metadata": {},
   "source": [
    "#  Pandas:  \n",
    "Task: Please complete the following tasks. <br> "
   ]
  },
  {
   "cell_type": "code",
   "execution_count": 68,
   "metadata": {},
   "outputs": [],
   "source": [
    "import pandas as pd "
   ]
  },
  {
   "cell_type": "markdown",
   "metadata": {},
   "source": [
    "## Write a Python program to create and display a one-dimensional array-like object containing an array of data using the Pandas module. <br>\n"
   ]
  },
  {
   "cell_type": "code",
   "execution_count": 76,
   "metadata": {},
   "outputs": [
    {
     "name": "stdout",
     "output_type": "stream",
     "text": [
      "-4.1 \n",
      "0    1\n",
      "1    2\n",
      "2    3\n",
      "3    4\n",
      "4    5\n",
      "dtype: int64\n"
     ]
    }
   ],
   "source": [
    "#4.1. \n",
    "print(\"-4.1 \")\n",
    "one = pd.Series([1,2,3,4,5])\n",
    "print(one)\n"
   ]
  },
  {
   "cell_type": "markdown",
   "metadata": {},
   "source": [
    "## Write a Python program to convert a Panda module Series to Python list and its type.  <br> \n"
   ]
  },
  {
   "cell_type": "code",
   "execution_count": 77,
   "metadata": {},
   "outputs": [
    {
     "name": "stdout",
     "output_type": "stream",
     "text": [
      "\n",
      "-4.2 \n",
      "0    1\n",
      "1    2\n",
      "2    3\n",
      "3    4\n",
      "4    5\n",
      "dtype: int64\n",
      "[1, 2, 3, 4, 5] <class 'list'>\n"
     ]
    }
   ],
   "source": [
    "#4.2. \n",
    "print(\"\\n-4.2 \")\n",
    "two = pd.Series([1,2,3,4,5])\n",
    "print(two)\n",
    "print(two.tolist(),type(two.tolist()))\n"
   ]
  },
  {
   "cell_type": "markdown",
   "metadata": {},
   "source": [
    "## Write a Python program to convert a dictionary to a Pandas series.  <br>\n"
   ]
  },
  {
   "cell_type": "code",
   "execution_count": 78,
   "metadata": {},
   "outputs": [
    {
     "name": "stdout",
     "output_type": "stream",
     "text": [
      "\n",
      "-4.3 \n",
      "{'a': 1, 'b': 2, 'c': 3, 'd': 4}\n",
      "a    1\n",
      "b    2\n",
      "c    3\n",
      "d    4\n",
      "dtype: int64\n"
     ]
    }
   ],
   "source": [
    "#4.3. \n",
    "print(\"\\n-4.3 \")\n",
    "three = {'a': 1, 'b': 2, 'c': 3, 'd':4}\n",
    "print(three)\n",
    "threeS=pd.Series(three)\n",
    "print(threeS)\n"
   ]
  },
  {
   "cell_type": "markdown",
   "metadata": {},
   "source": [
    "## Create a DataFrame of 10 students with their names, ages, and incomes (Make your data).   <br>\n"
   ]
  },
  {
   "cell_type": "code",
   "execution_count": 72,
   "metadata": {},
   "outputs": [
    {
     "name": "stdout",
     "output_type": "stream",
     "text": [
      "\n",
      "-4.4 \n",
      "      Name  Age  salary\n",
      "0   jafeth   22   90000\n",
      "1     nick   24   90000\n",
      "2     amir   22   60000\n",
      "3    jorge   20   30000\n",
      "4    uriel   25    2000\n",
      "5  higuain   29   90000\n",
      "6       JP   30   70000\n",
      "7    rodri   24   34000\n",
      "8    josue   25   90000\n",
      "9     jeff   20   28000\n"
     ]
    }
   ],
   "source": [
    "#4.4 \n",
    "print(\"\\n-4.4 \")\n",
    "four=[['jafeth',22,90000],['nick',24,90000],\n",
    "      ['amir',22,60000],['jorge',20,30000],\n",
    "      ['uriel',25,2000],['higuain',29,90000],\n",
    "      ['JP',30,70000],['rodri',24,34000],\n",
    "      ['josue',25,90000],['jeff',20,28000]]\n",
    "fourD = pd.DataFrame(four, columns = ['Name', 'Age','salary']) \n",
    "print(fourD)\n"
   ]
  },
  {
   "cell_type": "markdown",
   "metadata": {},
   "source": [
    "## Write a Python Pandas program to convert the first column of a DataFrame as a Series.   <br>\n"
   ]
  },
  {
   "cell_type": "code",
   "execution_count": 73,
   "metadata": {},
   "outputs": [
    {
     "name": "stdout",
     "output_type": "stream",
     "text": [
      "\n",
      "-4.5 \n",
      "0     jafeth\n",
      "1       nick\n",
      "2       amir\n",
      "3      jorge\n",
      "4      uriel\n",
      "5    higuain\n",
      "6         JP\n",
      "7      rodri\n",
      "8      josue\n",
      "9       jeff\n",
      "Name: Name, dtype: object\n"
     ]
    }
   ],
   "source": [
    "#4.5\n",
    "print(\"\\n-4.5 \")\n",
    "five = fourD.iloc[:,0]\n",
    "print(five)"
   ]
  },
  {
   "cell_type": "markdown",
   "metadata": {},
   "source": [
    "## Write a Pandas program to display a summary of the basic information about a specified DataFrame and its data.  <br>\n"
   ]
  },
  {
   "cell_type": "code",
   "execution_count": 74,
   "metadata": {},
   "outputs": [
    {
     "name": "stdout",
     "output_type": "stream",
     "text": [
      "\n",
      "-4.6\n",
      "<class 'pandas.core.frame.DataFrame'>\n",
      "RangeIndex: 10 entries, 0 to 9\n",
      "Data columns (total 3 columns):\n",
      "Name      10 non-null object\n",
      "Age       10 non-null int64\n",
      "salary    10 non-null int64\n",
      "dtypes: int64(2), object(1)\n",
      "memory usage: 368.0+ bytes\n",
      "None\n"
     ]
    }
   ],
   "source": [
    "#4.6\n",
    "print(\"\\n-4.6\")\n",
    "print(fourD.info())\n",
    "\n"
   ]
  },
  {
   "cell_type": "markdown",
   "metadata": {},
   "source": [
    "## Write a Pandas program to get the first and last 3 rows of a given DataFrame.  <br>\n"
   ]
  },
  {
   "cell_type": "code",
   "execution_count": 75,
   "metadata": {},
   "outputs": [
    {
     "name": "stdout",
     "output_type": "stream",
     "text": [
      "\n",
      "-4.7\n",
      " first 3:\n",
      "      Name  Age  salary  Age,Avg  salary,Avg\n",
      "0  jafeth   22   90000       25       60000\n",
      "1    nick   24   90000       25       60000\n",
      "2    amir   22   60000       25       60000\n",
      " last 3:\n",
      "     Name  Age  salary  Age,Avg  salary,Avg\n",
      "7  rodri   24   34000       25       60000\n",
      "8  josue   25   90000       25       60000\n",
      "9   jeff   20   28000       25       60000\n"
     ]
    }
   ],
   "source": [
    "#4.7\n",
    "print(\"\\n-4.7\")\n",
    "seven=[['jafeth',22,90000,25,60000],['nick',24,90000,25,60000],\n",
    "      ['amir',22,60000,25,60000],['jorge',20,30000,25,60000],\n",
    "      ['uriel',25,2000,25,60000],['higuain',29,90000,25,60000],\n",
    "      ['JP',30,70000,25,60000],['rodri',24,34000,25,60000],\n",
    "      ['josue',25,90000,25,60000],['jeff',20,28000,25,60000]]\n",
    "sevenD = pd.DataFrame(seven, columns = ['Name', 'Age','salary', 'Age,Avg','salary,Avg'])\n",
    "print(f' first 3:\\n {sevenD.head(3)}')\n",
    "print(f' last 3:\\n {sevenD.tail(3)}')\n",
    "\n"
   ]
  },
  {
   "cell_type": "markdown",
   "metadata": {},
   "source": [
    "## Write a Pandas program to select the specified columns and rows from a given data frame  <br>\n"
   ]
  },
  {
   "cell_type": "code",
   "execution_count": 79,
   "metadata": {},
   "outputs": [
    {
     "name": "stdout",
     "output_type": "stream",
     "text": [
      "\n",
      "-4.8\n",
      "   Age  salary\n",
      "1   24   90000\n",
      "2   22   60000\n"
     ]
    }
   ],
   "source": [
    "#4.8\n",
    "print(\"\\n-4.8\")\n",
    "print(sevenD.iloc[[1,2],[1,2]])\n",
    "\n"
   ]
  },
  {
   "cell_type": "markdown",
   "metadata": {},
   "source": [
    "## Write a Pandas program to select the rows where students' ages are between 20 and. 23.   <br>"
   ]
  },
  {
   "cell_type": "code",
   "execution_count": 80,
   "metadata": {},
   "outputs": [
    {
     "name": "stdout",
     "output_type": "stream",
     "text": [
      "\n",
      "-4.9\n",
      "     Name  Age  salary  Age,Avg  salary,Avg\n",
      "0  jafeth   22   90000       25       60000\n",
      "2    amir   22   60000       25       60000\n",
      "3   jorge   20   30000       25       60000\n",
      "9    jeff   20   28000       25       60000\n"
     ]
    }
   ],
   "source": [
    "#4.9\n",
    "print(\"\\n-4.9\")\n",
    "print(sevenD[(sevenD['Age'] >= 20) & (sevenD['Age'] <= 23)])\n"
   ]
  },
  {
   "cell_type": "markdown",
   "metadata": {},
   "source": [
    "## Write a Pandas program to change max and min incomes to NaN  <br>"
   ]
  },
  {
   "cell_type": "code",
   "execution_count": 81,
   "metadata": {},
   "outputs": [
    {
     "name": "stdout",
     "output_type": "stream",
     "text": [
      "\n",
      "-4.10\n"
     ]
    },
    {
     "data": {
      "text/plain": [
       "'sevenD = sevenD.replace(sevenD.min(axis = 2, np.nan)\\nsevenD = sevenD.replace(sevenD.max(axis = 2, np.nan)\\nprint(sevenD)'"
      ]
     },
     "execution_count": 81,
     "metadata": {},
     "output_type": "execute_result"
    }
   ],
   "source": [
    "#4.10\n",
    "print(\"\\n-4.10\")\n",
    "'''sevenD = sevenD.replace(sevenD.min(axis = 2, np.nan)\n",
    "sevenD = sevenD.replace(sevenD.max(axis = 2, np.nan)\n",
    "print(sevenD)'''"
   ]
  },
  {
   "cell_type": "markdown",
   "metadata": {},
   "source": [
    "## Write a Pandas program to save DataFrame above as CSV file.  <br>"
   ]
  },
  {
   "cell_type": "code",
   "execution_count": 82,
   "metadata": {},
   "outputs": [
    {
     "name": "stdout",
     "output_type": "stream",
     "text": [
      "\n",
      "-4.11\n",
      "Saved to csv\n"
     ]
    }
   ],
   "source": [
    "#4.11\n",
    "print(\"\\n-4.11\")\n",
    "eleven = pd.DataFrame(four, columns = ['Name', 'Age','salary'])\n",
    "eleven.to_csv('eleven.csv', index=False)\n",
    "print('Saved to csv')"
   ]
  },
  {
   "cell_type": "markdown",
   "metadata": {},
   "source": [
    "## Write a Pandas program to open a CSV file as DataFrame.  <br>"
   ]
  },
  {
   "cell_type": "code",
   "execution_count": 86,
   "metadata": {},
   "outputs": [
    {
     "name": "stdout",
     "output_type": "stream",
     "text": [
      "\n",
      "-4.12\n",
      "      Name  Age  salary\n",
      "0   jafeth   22   90000\n",
      "1     nick   24   90000\n",
      "2     amir   22   60000\n",
      "3    jorge   20   30000\n",
      "4    uriel   25    2000\n",
      "5  higuain   29   90000\n",
      "6       JP   30   70000\n",
      "7    rodri   24   34000\n",
      "8    josue   25   90000\n",
      "9     jeff   20   28000\n"
     ]
    }
   ],
   "source": [
    "#4.12\n",
    "print(\"\\n-4.12\")\n",
    "twelve = pd.read_csv('eleven.csv')\n",
    "print(twelve)"
   ]
  },
  {
   "cell_type": "markdown",
   "metadata": {},
   "source": [
    "## Write a Pandas program to save DataFrame above as an Excel file.  <br>\n"
   ]
  },
  {
   "cell_type": "code",
   "execution_count": 87,
   "metadata": {},
   "outputs": [
    {
     "name": "stdout",
     "output_type": "stream",
     "text": [
      "\n",
      "-4.13\n",
      "Saved to exel\n"
     ]
    }
   ],
   "source": [
    "#4.13\n",
    "print(\"\\n-4.13\")\n",
    "w = pd.ExcelWriter('thirdteen.xlsx')\n",
    "twelve.to_excel(w, 'sheet1')\n",
    "w.save()\n",
    "print('Saved to exel')"
   ]
  },
  {
   "cell_type": "markdown",
   "metadata": {},
   "source": [
    "## Write a Pandas program to open an Excel file as DataFrame.  <br>"
   ]
  },
  {
   "cell_type": "code",
   "execution_count": 84,
   "metadata": {},
   "outputs": [
    {
     "name": "stdout",
     "output_type": "stream",
     "text": [
      "\n",
      "-4.14\n"
     ]
    },
    {
     "data": {
      "text/html": [
       "<div>\n",
       "<style scoped>\n",
       "    .dataframe tbody tr th:only-of-type {\n",
       "        vertical-align: middle;\n",
       "    }\n",
       "\n",
       "    .dataframe tbody tr th {\n",
       "        vertical-align: top;\n",
       "    }\n",
       "\n",
       "    .dataframe thead th {\n",
       "        text-align: right;\n",
       "    }\n",
       "</style>\n",
       "<table border=\"1\" class=\"dataframe\">\n",
       "  <thead>\n",
       "    <tr style=\"text-align: right;\">\n",
       "      <th></th>\n",
       "      <th>Unnamed: 0</th>\n",
       "      <th>Name</th>\n",
       "      <th>Age</th>\n",
       "      <th>salary</th>\n",
       "    </tr>\n",
       "  </thead>\n",
       "  <tbody>\n",
       "    <tr>\n",
       "      <td>0</td>\n",
       "      <td>0</td>\n",
       "      <td>jafeth</td>\n",
       "      <td>22</td>\n",
       "      <td>90000</td>\n",
       "    </tr>\n",
       "    <tr>\n",
       "      <td>1</td>\n",
       "      <td>1</td>\n",
       "      <td>nick</td>\n",
       "      <td>24</td>\n",
       "      <td>90000</td>\n",
       "    </tr>\n",
       "    <tr>\n",
       "      <td>2</td>\n",
       "      <td>2</td>\n",
       "      <td>amir</td>\n",
       "      <td>22</td>\n",
       "      <td>60000</td>\n",
       "    </tr>\n",
       "    <tr>\n",
       "      <td>3</td>\n",
       "      <td>3</td>\n",
       "      <td>jorge</td>\n",
       "      <td>20</td>\n",
       "      <td>30000</td>\n",
       "    </tr>\n",
       "    <tr>\n",
       "      <td>4</td>\n",
       "      <td>4</td>\n",
       "      <td>uriel</td>\n",
       "      <td>25</td>\n",
       "      <td>2000</td>\n",
       "    </tr>\n",
       "  </tbody>\n",
       "</table>\n",
       "</div>"
      ],
      "text/plain": [
       "   Unnamed: 0    Name  Age  salary\n",
       "0           0  jafeth   22   90000\n",
       "1           1    nick   24   90000\n",
       "2           2    amir   22   60000\n",
       "3           3   jorge   20   30000\n",
       "4           4   uriel   25    2000"
      ]
     },
     "execution_count": 84,
     "metadata": {},
     "output_type": "execute_result"
    }
   ],
   "source": [
    "#4.14\n",
    "print(\"\\n-4.14\")\n",
    "fourteen = pd.read_excel('thirdteen.xlsx',index=False)\n",
    "fourteen.head()"
   ]
  },
  {
   "cell_type": "markdown",
   "metadata": {},
   "source": [
    "# \tBasic Statistics and Probability Using Python:  \n",
    " \n",
    "## \tNumpy \n",
    "Task: Please complete the following tasks. "
   ]
  },
  {
   "cell_type": "code",
   "execution_count": 88,
   "metadata": {},
   "outputs": [],
   "source": [
    "import numpy as np"
   ]
  },
  {
   "cell_type": "markdown",
   "metadata": {},
   "source": [
    "### Write a Python program to find the maximum and minimum value of a given flattened array. <br> "
   ]
  },
  {
   "cell_type": "code",
   "execution_count": 89,
   "metadata": {},
   "outputs": [
    {
     "name": "stdout",
     "output_type": "stream",
     "text": [
      "-5.1.1\n",
      "[[1 2 3]\n",
      " [4 5 6]\n",
      " [7 8 9]]\n",
      "[1 4 7 2 5 8 3 6 9]\n",
      "9\n",
      "1\n"
     ]
    }
   ],
   "source": [
    "#5.1.1\n",
    "print(\"-5.1.1\")\n",
    "one = np.array([[1,2,3],[4,5,6],[7,8,9]])\n",
    "print(one)\n",
    "one1 = one.flatten('F')\n",
    "print(one1)\n",
    "print(np.amax(one1))\n",
    "print(np.amin(one1))"
   ]
  },
  {
   "cell_type": "markdown",
   "metadata": {},
   "source": [
    "### Write a NumPy program to compute the median of the flattened given array  <br>\n"
   ]
  },
  {
   "cell_type": "code",
   "execution_count": 90,
   "metadata": {},
   "outputs": [
    {
     "name": "stdout",
     "output_type": "stream",
     "text": [
      "\n",
      "-5.1.2\n",
      "median: 5.0\n"
     ]
    }
   ],
   "source": [
    "#5.1.2\n",
    "print(\"\\n-5.1.2\")\n",
    "two = np.median(one1)\n",
    "print(f'median: {two}')"
   ]
  },
  {
   "cell_type": "markdown",
   "metadata": {},
   "source": [
    "### Write a NumPy program to compute the mean, standard deviation, and variance of a given array along the second axis  <br>\n"
   ]
  },
  {
   "cell_type": "code",
   "execution_count": 91,
   "metadata": {},
   "outputs": [
    {
     "name": "stdout",
     "output_type": "stream",
     "text": [
      "\n",
      "-5.1.3\n",
      "Mean: 5.0\n",
      "Standard deviation: 2.581988897471611\n",
      "Variance: 6.666666666666667\n"
     ]
    }
   ],
   "source": [
    "#5.1.3\n",
    "print(\"\\n-5.1.3\")\n",
    "print(f'Mean: {np.mean(one1)}')\n",
    "print(f'Standard deviation: {np.std(one1)}')\n",
    "print(f'Variance: {np.var(one1)}')"
   ]
  },
  {
   "cell_type": "markdown",
   "metadata": {},
   "source": [
    "### Write a NumPy program to compute the covariance matrix of two given arrays.  <br>\n"
   ]
  },
  {
   "cell_type": "code",
   "execution_count": 92,
   "metadata": {},
   "outputs": [
    {
     "name": "stdout",
     "output_type": "stream",
     "text": [
      "\n",
      "-5.1.4\n",
      "[6 5 1 3 4 3] [5 1 4 3 1 0]\n",
      "Covariance:\n",
      " [[3.06666667 0.13333333]\n",
      " [0.13333333 3.86666667]]\n"
     ]
    }
   ],
   "source": [
    "#5.1.4\n",
    "print(\"\\n-5.1.4\")\n",
    "four = np.random.randint(0, 7, 6)\n",
    "four1 = np.random.randint(0, 7, 6)\n",
    "print(four,four1)\n",
    "print(f'Covariance:\\n {np.cov(four,four1)}')"
   ]
  },
  {
   "cell_type": "markdown",
   "metadata": {},
   "source": [
    "### Write a NumPy program to compute the cross-correlation of two given arrays.  <br>"
   ]
  },
  {
   "cell_type": "code",
   "execution_count": 93,
   "metadata": {},
   "outputs": [
    {
     "name": "stdout",
     "output_type": "stream",
     "text": [
      "\n",
      "-5.1.5\n",
      "Coo-retaltion: [52]\n"
     ]
    }
   ],
   "source": [
    "#5.1.5\n",
    "print(\"\\n-5.1.5\")\n",
    "print(f'Coo-retaltion: {np.correlate(four,four1)}')"
   ]
  },
  {
   "cell_type": "markdown",
   "metadata": {},
   "source": [
    "## \tPandas \n",
    "Task: Please complete the following tasks. "
   ]
  },
  {
   "cell_type": "code",
   "execution_count": 94,
   "metadata": {},
   "outputs": [],
   "source": [
    "import numpy as np\n",
    "import pandas as pd"
   ]
  },
  {
   "cell_type": "markdown",
   "metadata": {},
   "source": [
    "### Create a DataFrame of 20 students with their ages and incomes (Make your data). Find Sum od Ages and Incomes  <br>"
   ]
  },
  {
   "cell_type": "code",
   "execution_count": 95,
   "metadata": {},
   "outputs": [
    {
     "name": "stdout",
     "output_type": "stream",
     "text": [
      "-5.2.1\n",
      "       Name  Age  salary\n",
      "0    jafeth   22     900\n",
      "1      nick   24    9000\n",
      "2      amir   22     600\n",
      "3     jorge   20    3000\n",
      "4     uriel   25     200\n",
      "5   higuain   45    9000\n",
      "6        JP   30    7000\n",
      "7     rodri   66    3400\n",
      "8     josue   25    9000\n",
      "9      jeff   20    2800\n",
      "10     juan   22    9000\n",
      "11      gus   23    9000\n",
      "12     pepe   23     400\n",
      "13     mack   20   10300\n",
      "14      sam   52     200\n",
      "15   barton   29    9400\n",
      "16    david   33    7000\n",
      "17     jojo   33    3400\n",
      "18   keaton   77    9000\n",
      "19    denis   21    2800\n"
     ]
    }
   ],
   "source": [
    "#5.2.1\n",
    "print(\"-5.2.1\")\n",
    "one=[['jafeth',22,900],['nick',24,9000],\n",
    "      ['amir',22,600],['jorge',20,3000],\n",
    "      ['uriel',25,200],['higuain',45,9000],\n",
    "      ['JP',30,7000],['rodri',66,3400],\n",
    "      ['josue',25,9000],['jeff',20,2800],\n",
    "      ['juan',22,9000],['gus',23,9000],\n",
    "      ['pepe',23,400],['mack',20,10300],\n",
    "      ['sam',52,200],['barton',29,9400],\n",
    "      ['david',33,7000],['jojo',33,3400],\n",
    "      ['keaton',77,9000],['denis',21,2800]]\n",
    "oneDF = pd.DataFrame(one, columns = ['Name', 'Age','salary'])\n",
    "print(oneDF)"
   ]
  },
  {
   "cell_type": "markdown",
   "metadata": {},
   "source": [
    "### Find the standard deviation  of student age and income  <br>"
   ]
  },
  {
   "cell_type": "code",
   "execution_count": 96,
   "metadata": {},
   "outputs": [
    {
     "name": "stdout",
     "output_type": "stream",
     "text": [
      "\n",
      "-5.2.2\n",
      "standard deviation:\n",
      "Age         16.122557\n",
      "salary    3785.025899\n",
      "dtype: float64\n"
     ]
    }
   ],
   "source": [
    "#5.2.2\n",
    "print(\"\\n-5.2.2\")\n",
    "print('standard deviation:')\n",
    "print(oneDF.std(axis = 0, skipna = True) )"
   ]
  },
  {
   "cell_type": "markdown",
   "metadata": {},
   "source": [
    "### Find product values of student age and income  <br>"
   ]
  },
  {
   "cell_type": "code",
   "execution_count": 97,
   "metadata": {},
   "outputs": [
    {
     "name": "stdout",
     "output_type": "stream",
     "text": [
      "\n",
      "-5.2.3\n",
      "Age product: -6577288434940444672\n",
      "salary product: -6917529027641081856\n"
     ]
    }
   ],
   "source": [
    "#5.2.3\n",
    "print(\"\\n-5.2.3\")\n",
    "three = oneDF['Age'].product() \n",
    "print(f'Age product: {three}')\n",
    "three1 = oneDF['salary'].product() \n",
    "print(f'salary product: {three1}')"
   ]
  },
  {
   "cell_type": "markdown",
   "metadata": {},
   "source": [
    "### Find Cumulative Sum of student age and income  <br>\n"
   ]
  },
  {
   "cell_type": "code",
   "execution_count": 98,
   "metadata": {},
   "outputs": [
    {
     "name": "stdout",
     "output_type": "stream",
     "text": [
      "\n",
      "-5.2.4\n",
      "Age sum: 632\n",
      "salary sum: 105400\n"
     ]
    }
   ],
   "source": [
    "#5.2.4\n",
    "print(\"\\n-5.2.4\")\n",
    "four = oneDF['Age'].sum() \n",
    "print(f'Age sum: {four}')\n",
    "four1 = oneDF['salary'].sum() \n",
    "print(f'salary sum: {four1}')"
   ]
  },
  {
   "cell_type": "markdown",
   "metadata": {},
   "source": [
    "### Find Cumulative product of student age and income  <br>"
   ]
  },
  {
   "cell_type": "code",
   "execution_count": 99,
   "metadata": {},
   "outputs": [
    {
     "name": "stdout",
     "output_type": "stream",
     "text": [
      "\n",
      "-5.2.5\n",
      "Age Cumulative product: 0                      22\n",
      "1                     528\n",
      "2                   11616\n",
      "3                  232320\n",
      "4                 5808000\n",
      "5               261360000\n",
      "6              7840800000\n",
      "7            517492800000\n",
      "8          12937320000000\n",
      "9         258746400000000\n",
      "10       5692420800000000\n",
      "11     130925678400000000\n",
      "12    3011290603200000000\n",
      "13    4885579842871345152\n",
      "14   -4204265202623774720\n",
      "15    7203517639877394432\n",
      "16   -2091590842270154752\n",
      "17    4764478499923099648\n",
      "18   -2070036980112359424\n",
      "19   -6577288434940444672\n",
      "Name: Age, dtype: int64\n",
      "salary Cumulative product: 0                     900\n",
      "1                 8100000\n",
      "2              4860000000\n",
      "3          14580000000000\n",
      "4        2916000000000000\n",
      "5     7797255926290448384\n",
      "6    -3124230073424543744\n",
      "7     2942336813253001216\n",
      "8    -8493170569905176576\n",
      "9    -3024484722882379776\n",
      "10    7031746853880201216\n",
      "11   -5057231975660650496\n",
      "12    6249057843790479360\n",
      "13    4605717869311819776\n",
      "14   -1193629823113625600\n",
      "15   -4499940452673257472\n",
      "16    7455709183111856128\n",
      "17    3584865303386914816\n",
      "18     432345564227567616\n",
      "19   -6917529027641081856\n",
      "Name: salary, dtype: int64\n"
     ]
    }
   ],
   "source": [
    "#5.2.5\n",
    "print(\"\\n-5.2.5\")\n",
    "five = oneDF['Age'].cumprod() \n",
    "print(f'Age Cumulative product: {five}')\n",
    "five1 = oneDF['salary'].cumprod() \n",
    "print(f'salary Cumulative product: {five1}')"
   ]
  },
  {
   "cell_type": "markdown",
   "metadata": {},
   "source": [
    "# Linear Regresion"
   ]
  },
  {
   "cell_type": "code",
   "execution_count": 128,
   "metadata": {},
   "outputs": [],
   "source": [
    "import numpy as np\n",
    "from sklearn.linear_model import LinearRegression\n",
    "import matplotlib.pyplot as plt"
   ]
  },
  {
   "cell_type": "markdown",
   "metadata": {},
   "source": [
    "## Open the file that is provided (Linear_Regression.xlsx) as Pandas DataFrame."
   ]
  },
  {
   "cell_type": "code",
   "execution_count": 124,
   "metadata": {},
   "outputs": [
    {
     "name": "stdout",
     "output_type": "stream",
     "text": [
      "\n",
      "-6.1\n"
     ]
    },
    {
     "data": {
      "text/html": [
       "<div>\n",
       "<style scoped>\n",
       "    .dataframe tbody tr th:only-of-type {\n",
       "        vertical-align: middle;\n",
       "    }\n",
       "\n",
       "    .dataframe tbody tr th {\n",
       "        vertical-align: top;\n",
       "    }\n",
       "\n",
       "    .dataframe thead th {\n",
       "        text-align: right;\n",
       "    }\n",
       "</style>\n",
       "<table border=\"1\" class=\"dataframe\">\n",
       "  <thead>\n",
       "    <tr style=\"text-align: right;\">\n",
       "      <th></th>\n",
       "      <th>Number of Hours</th>\n",
       "      <th>Grades</th>\n",
       "    </tr>\n",
       "  </thead>\n",
       "  <tbody>\n",
       "    <tr>\n",
       "      <td>0</td>\n",
       "      <td>12</td>\n",
       "      <td>55</td>\n",
       "    </tr>\n",
       "    <tr>\n",
       "      <td>1</td>\n",
       "      <td>14</td>\n",
       "      <td>53</td>\n",
       "    </tr>\n",
       "    <tr>\n",
       "      <td>2</td>\n",
       "      <td>13</td>\n",
       "      <td>52</td>\n",
       "    </tr>\n",
       "    <tr>\n",
       "      <td>3</td>\n",
       "      <td>18</td>\n",
       "      <td>68</td>\n",
       "    </tr>\n",
       "    <tr>\n",
       "      <td>4</td>\n",
       "      <td>10</td>\n",
       "      <td>45</td>\n",
       "    </tr>\n",
       "  </tbody>\n",
       "</table>\n",
       "</div>"
      ],
      "text/plain": [
       "   Number of Hours  Grades\n",
       "0               12      55\n",
       "1               14      53\n",
       "2               13      52\n",
       "3               18      68\n",
       "4               10      45"
      ]
     },
     "execution_count": 124,
     "metadata": {},
     "output_type": "execute_result"
    }
   ],
   "source": [
    "#6.1 (used code from class F)\n",
    "print(\"\\n-6.1\")\n",
    "lr = pd.read_excel('Linear_Regression.xlsx',index=False)\n",
    "lr.head()"
   ]
  },
  {
   "cell_type": "markdown",
   "metadata": {},
   "source": [
    "## Plot the data (Number of Hours vs Grades)"
   ]
  },
  {
   "cell_type": "code",
   "execution_count": 198,
   "metadata": {},
   "outputs": [
    {
     "name": "stdout",
     "output_type": "stream",
     "text": [
      "[[12]\n",
      " [14]\n",
      " [13]\n",
      " [18]\n",
      " [10]\n",
      " [23]\n",
      " [44]\n",
      " [30]\n",
      " [27]\n",
      " [33]\n",
      " [38]\n",
      " [ 5]\n",
      " [ 8]\n",
      " [12]]\n",
      "[55 53 52 68 45 75 95 82 72 85 88 25 33 55]\n"
     ]
    },
    {
     "data": {
      "image/png": "[encoded data removed]",
      "text/plain": [
       "<Figure size 432x288 with 1 Axes>"
      ]
     },
     "metadata": {
      "needs_background": "light"
     },
     "output_type": "display_data"
    }
   ],
   "source": [
    "Numbers=np.array(lr[\"Number of Hours\"]).reshape(-1,1)\n",
    "print(Numbers)\n",
    "Grades=np.array(lr[\"Grades\"])\n",
    "print(Grades)\n",
    "plt.scatter(Numbers,Grades)\n",
    "plt.title(\"Number of Hours vs Grades\")\n",
    "plt.grid()"
   ]
  },
  {
   "cell_type": "markdown",
   "metadata": {},
   "source": [
    "## Using linear regression that is explained in the class find the coefficients (b0 and b1). Plot the original data and linear line."
   ]
  },
  {
   "cell_type": "code",
   "execution_count": 199,
   "metadata": {},
   "outputs": [
    {
     "name": "stdout",
     "output_type": "stream",
     "text": [
      "0.9063053949396496 29.17315677252833 [1.65357423]\n"
     ]
    },
    {
     "data": {
      "text/plain": [
       "array([[42.82673101],\n",
       "       [44.82673101],\n",
       "       [43.82673101],\n",
       "       [48.82673101],\n",
       "       [40.82673101],\n",
       "       [53.82673101],\n",
       "       [74.82673101],\n",
       "       [60.82673101],\n",
       "       [57.82673101],\n",
       "       [63.82673101],\n",
       "       [68.82673101],\n",
       "       [35.82673101],\n",
       "       [38.82673101],\n",
       "       [42.82673101]])"
      ]
     },
     "execution_count": 199,
     "metadata": {},
     "output_type": "execute_result"
    },
    {
     "data": {
      "image/png": "[encoded data removed]",
      "text/plain": [
       "<Figure size 432x288 with 1 Axes>"
      ]
     },
     "metadata": {
      "needs_background": "light"
     },
     "output_type": "display_data"
    }
   ],
   "source": [
    "#6.3\n",
    "mdl = LinearRegression()\n",
    "mdl.fit(Numbers,Grades)\n",
    "b0=mdl.intercept_\n",
    "b1=mdl.coef_\n",
    "r=mdl.score(Numbers,Grades)\n",
    "print(r,b0,b1)\n",
    "y=b0+b1+Numbers\n",
    "plt.scatter(Numbers,Grades)\n",
    "plt.plot(Numbers,y,'red')\n",
    "plt.grid()\n",
    "y"
   ]
  },
  {
   "cell_type": "markdown",
   "metadata": {},
   "source": [
    "## Estimate some future values based on your linear regression."
   ]
  },
  {
   "cell_type": "code",
   "execution_count": 211,
   "metadata": {},
   "outputs": [
    {
     "name": "stdout",
     "output_type": "stream",
     "text": [
      "[70.82673101]\n",
      "[75.82673101]\n",
      "[60.82673101]\n",
      "[53.82673101]\n"
     ]
    }
   ],
   "source": [
    "y=b0+b1+40\n",
    "print(y)\n",
    "y=b0+b1+45\n",
    "print(y)\n",
    "y=b0+b1+30\n",
    "print(y)\n",
    "y=b0+b1+23\n",
    "print(y)"
   ]
  },
  {
   "cell_type": "code",
   "execution_count": null,
   "metadata": {},
   "outputs": [],
   "source": []
  }
 ],
 "metadata": {
  "kernelspec": {
   "display_name": "Python 3",
   "language": "python",
   "name": "python3"
  },
  "language_info": {
   "codemirror_mode": {
    "name": "ipython",
    "version": 3
   },
   "file_extension": ".py",
   "mimetype": "text/x-python",
   "name": "python",
   "nbconvert_exporter": "python",
   "pygments_lexer": "ipython3",
   "version": "3.7.4"
  },
  "latex_envs": {
   "LaTeX_envs_menu_present": true,
   "autoclose": false,
   "autocomplete": true,
   "bibliofile": "biblio.bib",
   "cite_by": "apalike",
   "current_citInitial": 1,
   "eqLabelWithNumbers": true,
   "eqNumInitial": 1,
   "hotkeys": {
    "equation": "Ctrl-E",
    "itemize": "Ctrl-I"
   },
   "labels_anchors": false,
   "latex_user_defs": false,
   "report_style_numbering": false,
   "user_envs_cfg": false
  },
  "nbTranslate": {
   "displayLangs": [
    "*"
   ],
   "hotkey": "alt-t",
   "langInMainMenu": true,
   "sourceLang": "en",
   "targetLang": "fr",
   "useGoogleTranslate": true
  },
  "toc": {
   "base_numbering": 1,
   "nav_menu": {},
   "number_sections": true,
   "sideBar": true,
   "skip_h1_title": false,
   "title_cell": "Table of Contents",
   "title_sidebar": "Contents",
   "toc_cell": true,
   "toc_position": {},
   "toc_section_display": true,
   "toc_window_display": true
  }
 },
 "nbformat": 4,
 "nbformat_minor": 2
}
